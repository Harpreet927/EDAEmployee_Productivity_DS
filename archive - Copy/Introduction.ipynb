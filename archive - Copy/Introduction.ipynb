{
 "cells": [
  {
   "cell_type": "code",
   "execution_count": 2,
   "id": "465fd1a9",
   "metadata": {},
   "outputs": [
    {
     "ename": "FileNotFoundError",
     "evalue": "[Errno 2] No such file or directory: 'hr_dashboard_data.csv'",
     "output_type": "error",
     "traceback": [
      "\u001b[1;31m---------------------------------------------------------------------------\u001b[0m",
      "\u001b[1;31mFileNotFoundError\u001b[0m                         Traceback (most recent call last)",
      "\u001b[1;32m~\\AppData\\Local\\Temp\\ipykernel_14292\\3341645906.py\u001b[0m in \u001b[0;36m<module>\u001b[1;34m\u001b[0m\n\u001b[0;32m      5\u001b[0m \u001b[1;32mimport\u001b[0m \u001b[0mnumpy\u001b[0m \u001b[1;32mas\u001b[0m \u001b[0mnp\u001b[0m\u001b[1;33m\u001b[0m\u001b[1;33m\u001b[0m\u001b[0m\n\u001b[0;32m      6\u001b[0m \u001b[1;33m\u001b[0m\u001b[0m\n\u001b[1;32m----> 7\u001b[1;33m \u001b[0mdf\u001b[0m \u001b[1;33m=\u001b[0m \u001b[0mpd\u001b[0m\u001b[1;33m.\u001b[0m\u001b[0mread_csv\u001b[0m\u001b[1;33m(\u001b[0m\u001b[1;34m'hr_dashboard_data.csv'\u001b[0m\u001b[1;33m)\u001b[0m\u001b[1;33m\u001b[0m\u001b[1;33m\u001b[0m\u001b[0m\n\u001b[0m",
      "\u001b[1;32m~\\anaconda3\\lib\\site-packages\\pandas\\util\\_decorators.py\u001b[0m in \u001b[0;36mwrapper\u001b[1;34m(*args, **kwargs)\u001b[0m\n\u001b[0;32m    309\u001b[0m                     \u001b[0mstacklevel\u001b[0m\u001b[1;33m=\u001b[0m\u001b[0mstacklevel\u001b[0m\u001b[1;33m,\u001b[0m\u001b[1;33m\u001b[0m\u001b[1;33m\u001b[0m\u001b[0m\n\u001b[0;32m    310\u001b[0m                 )\n\u001b[1;32m--> 311\u001b[1;33m             \u001b[1;32mreturn\u001b[0m \u001b[0mfunc\u001b[0m\u001b[1;33m(\u001b[0m\u001b[1;33m*\u001b[0m\u001b[0margs\u001b[0m\u001b[1;33m,\u001b[0m \u001b[1;33m**\u001b[0m\u001b[0mkwargs\u001b[0m\u001b[1;33m)\u001b[0m\u001b[1;33m\u001b[0m\u001b[1;33m\u001b[0m\u001b[0m\n\u001b[0m\u001b[0;32m    312\u001b[0m \u001b[1;33m\u001b[0m\u001b[0m\n\u001b[0;32m    313\u001b[0m         \u001b[1;32mreturn\u001b[0m \u001b[0mwrapper\u001b[0m\u001b[1;33m\u001b[0m\u001b[1;33m\u001b[0m\u001b[0m\n",
      "\u001b[1;32m~\\anaconda3\\lib\\site-packages\\pandas\\io\\parsers\\readers.py\u001b[0m in \u001b[0;36mread_csv\u001b[1;34m(filepath_or_buffer, sep, delimiter, header, names, index_col, usecols, squeeze, prefix, mangle_dupe_cols, dtype, engine, converters, true_values, false_values, skipinitialspace, skiprows, skipfooter, nrows, na_values, keep_default_na, na_filter, verbose, skip_blank_lines, parse_dates, infer_datetime_format, keep_date_col, date_parser, dayfirst, cache_dates, iterator, chunksize, compression, thousands, decimal, lineterminator, quotechar, quoting, doublequote, escapechar, comment, encoding, encoding_errors, dialect, error_bad_lines, warn_bad_lines, on_bad_lines, delim_whitespace, low_memory, memory_map, float_precision, storage_options)\u001b[0m\n\u001b[0;32m    676\u001b[0m     \u001b[0mkwds\u001b[0m\u001b[1;33m.\u001b[0m\u001b[0mupdate\u001b[0m\u001b[1;33m(\u001b[0m\u001b[0mkwds_defaults\u001b[0m\u001b[1;33m)\u001b[0m\u001b[1;33m\u001b[0m\u001b[1;33m\u001b[0m\u001b[0m\n\u001b[0;32m    677\u001b[0m \u001b[1;33m\u001b[0m\u001b[0m\n\u001b[1;32m--> 678\u001b[1;33m     \u001b[1;32mreturn\u001b[0m \u001b[0m_read\u001b[0m\u001b[1;33m(\u001b[0m\u001b[0mfilepath_or_buffer\u001b[0m\u001b[1;33m,\u001b[0m \u001b[0mkwds\u001b[0m\u001b[1;33m)\u001b[0m\u001b[1;33m\u001b[0m\u001b[1;33m\u001b[0m\u001b[0m\n\u001b[0m\u001b[0;32m    679\u001b[0m \u001b[1;33m\u001b[0m\u001b[0m\n\u001b[0;32m    680\u001b[0m \u001b[1;33m\u001b[0m\u001b[0m\n",
      "\u001b[1;32m~\\anaconda3\\lib\\site-packages\\pandas\\io\\parsers\\readers.py\u001b[0m in \u001b[0;36m_read\u001b[1;34m(filepath_or_buffer, kwds)\u001b[0m\n\u001b[0;32m    573\u001b[0m \u001b[1;33m\u001b[0m\u001b[0m\n\u001b[0;32m    574\u001b[0m     \u001b[1;31m# Create the parser.\u001b[0m\u001b[1;33m\u001b[0m\u001b[1;33m\u001b[0m\u001b[0m\n\u001b[1;32m--> 575\u001b[1;33m     \u001b[0mparser\u001b[0m \u001b[1;33m=\u001b[0m \u001b[0mTextFileReader\u001b[0m\u001b[1;33m(\u001b[0m\u001b[0mfilepath_or_buffer\u001b[0m\u001b[1;33m,\u001b[0m \u001b[1;33m**\u001b[0m\u001b[0mkwds\u001b[0m\u001b[1;33m)\u001b[0m\u001b[1;33m\u001b[0m\u001b[1;33m\u001b[0m\u001b[0m\n\u001b[0m\u001b[0;32m    576\u001b[0m \u001b[1;33m\u001b[0m\u001b[0m\n\u001b[0;32m    577\u001b[0m     \u001b[1;32mif\u001b[0m \u001b[0mchunksize\u001b[0m \u001b[1;32mor\u001b[0m \u001b[0miterator\u001b[0m\u001b[1;33m:\u001b[0m\u001b[1;33m\u001b[0m\u001b[1;33m\u001b[0m\u001b[0m\n",
      "\u001b[1;32m~\\anaconda3\\lib\\site-packages\\pandas\\io\\parsers\\readers.py\u001b[0m in \u001b[0;36m__init__\u001b[1;34m(self, f, engine, **kwds)\u001b[0m\n\u001b[0;32m    930\u001b[0m \u001b[1;33m\u001b[0m\u001b[0m\n\u001b[0;32m    931\u001b[0m         \u001b[0mself\u001b[0m\u001b[1;33m.\u001b[0m\u001b[0mhandles\u001b[0m\u001b[1;33m:\u001b[0m \u001b[0mIOHandles\u001b[0m \u001b[1;33m|\u001b[0m \u001b[1;32mNone\u001b[0m \u001b[1;33m=\u001b[0m \u001b[1;32mNone\u001b[0m\u001b[1;33m\u001b[0m\u001b[1;33m\u001b[0m\u001b[0m\n\u001b[1;32m--> 932\u001b[1;33m         \u001b[0mself\u001b[0m\u001b[1;33m.\u001b[0m\u001b[0m_engine\u001b[0m \u001b[1;33m=\u001b[0m \u001b[0mself\u001b[0m\u001b[1;33m.\u001b[0m\u001b[0m_make_engine\u001b[0m\u001b[1;33m(\u001b[0m\u001b[0mf\u001b[0m\u001b[1;33m,\u001b[0m \u001b[0mself\u001b[0m\u001b[1;33m.\u001b[0m\u001b[0mengine\u001b[0m\u001b[1;33m)\u001b[0m\u001b[1;33m\u001b[0m\u001b[1;33m\u001b[0m\u001b[0m\n\u001b[0m\u001b[0;32m    933\u001b[0m \u001b[1;33m\u001b[0m\u001b[0m\n\u001b[0;32m    934\u001b[0m     \u001b[1;32mdef\u001b[0m \u001b[0mclose\u001b[0m\u001b[1;33m(\u001b[0m\u001b[0mself\u001b[0m\u001b[1;33m)\u001b[0m\u001b[1;33m:\u001b[0m\u001b[1;33m\u001b[0m\u001b[1;33m\u001b[0m\u001b[0m\n",
      "\u001b[1;32m~\\anaconda3\\lib\\site-packages\\pandas\\io\\parsers\\readers.py\u001b[0m in \u001b[0;36m_make_engine\u001b[1;34m(self, f, engine)\u001b[0m\n\u001b[0;32m   1214\u001b[0m             \u001b[1;31m# \"Union[str, PathLike[str], ReadCsvBuffer[bytes], ReadCsvBuffer[str]]\"\u001b[0m\u001b[1;33m\u001b[0m\u001b[1;33m\u001b[0m\u001b[0m\n\u001b[0;32m   1215\u001b[0m             \u001b[1;31m# , \"str\", \"bool\", \"Any\", \"Any\", \"Any\", \"Any\", \"Any\"\u001b[0m\u001b[1;33m\u001b[0m\u001b[1;33m\u001b[0m\u001b[0m\n\u001b[1;32m-> 1216\u001b[1;33m             self.handles = get_handle(  # type: ignore[call-overload]\n\u001b[0m\u001b[0;32m   1217\u001b[0m                 \u001b[0mf\u001b[0m\u001b[1;33m,\u001b[0m\u001b[1;33m\u001b[0m\u001b[1;33m\u001b[0m\u001b[0m\n\u001b[0;32m   1218\u001b[0m                 \u001b[0mmode\u001b[0m\u001b[1;33m,\u001b[0m\u001b[1;33m\u001b[0m\u001b[1;33m\u001b[0m\u001b[0m\n",
      "\u001b[1;32m~\\anaconda3\\lib\\site-packages\\pandas\\io\\common.py\u001b[0m in \u001b[0;36mget_handle\u001b[1;34m(path_or_buf, mode, encoding, compression, memory_map, is_text, errors, storage_options)\u001b[0m\n\u001b[0;32m    784\u001b[0m         \u001b[1;32mif\u001b[0m \u001b[0mioargs\u001b[0m\u001b[1;33m.\u001b[0m\u001b[0mencoding\u001b[0m \u001b[1;32mand\u001b[0m \u001b[1;34m\"b\"\u001b[0m \u001b[1;32mnot\u001b[0m \u001b[1;32min\u001b[0m \u001b[0mioargs\u001b[0m\u001b[1;33m.\u001b[0m\u001b[0mmode\u001b[0m\u001b[1;33m:\u001b[0m\u001b[1;33m\u001b[0m\u001b[1;33m\u001b[0m\u001b[0m\n\u001b[0;32m    785\u001b[0m             \u001b[1;31m# Encoding\u001b[0m\u001b[1;33m\u001b[0m\u001b[1;33m\u001b[0m\u001b[0m\n\u001b[1;32m--> 786\u001b[1;33m             handle = open(\n\u001b[0m\u001b[0;32m    787\u001b[0m                 \u001b[0mhandle\u001b[0m\u001b[1;33m,\u001b[0m\u001b[1;33m\u001b[0m\u001b[1;33m\u001b[0m\u001b[0m\n\u001b[0;32m    788\u001b[0m                 \u001b[0mioargs\u001b[0m\u001b[1;33m.\u001b[0m\u001b[0mmode\u001b[0m\u001b[1;33m,\u001b[0m\u001b[1;33m\u001b[0m\u001b[1;33m\u001b[0m\u001b[0m\n",
      "\u001b[1;31mFileNotFoundError\u001b[0m: [Errno 2] No such file or directory: 'hr_dashboard_data.csv'"
     ]
    }
   ],
   "source": [
    "# Load the 'Employee Productivity and Satisfaction HR Data' dataset\n",
    "import pandas as pd\n",
    "import seaborn as sns\n",
    "import matplotlib.pyplot as plt\n",
    "import numpy as np\n",
    "\n",
    "df = pd.read_csv('hr_dashboard_data.csv')"
   ]
  },
  {
   "cell_type": "markdown",
   "id": "40fffd06",
   "metadata": {},
   "source": [
    "# 1. Distribution of Employee Salary"
   ]
  },
  {
   "cell_type": "code",
   "execution_count": null,
   "id": "b3a76c8c",
   "metadata": {},
   "outputs": [],
   "source": [
    "fig, ax = plt.subplots(figsize=(8, 6))\n",
    "sns.kdeplot(df['Salary'], color='green', ax=ax, shade=True)\n",
    "\n",
    "# add vertical line at mean\n",
    "mean = df['Salary'].mean()\n",
    "ax.axvline(mean, color='black', linestyle='--')\n",
    "\n",
    "# Add title using ax.set_title()\n",
    "ax.set_title('Distribution of Employee Salary')\n",
    "\n",
    "plt.show()\n",
    "\n",
    "#Bimodularity"
   ]
  },
  {
   "cell_type": "code",
   "execution_count": null,
   "id": "c4f6a756",
   "metadata": {
    "scrolled": false
   },
   "outputs": [],
   "source": [
    "df[['Salary']].describe()"
   ]
  },
  {
   "cell_type": "markdown",
   "id": "ca379fa1",
   "metadata": {},
   "source": [
    "Interpretation: The distribution of salary ranges from 30k to 120k. In this KDE graph, bimodularity is observed by two dominant groups: one with a salary range of 40k-60k and the other with a salary range of 100k-120k. There is a dip around the median at 80k between these two groups. This leads to show interesting trends in salary range. It points to speculate and explore what factors can contribute to higher compensations and which features are strongly associated with salary prediction in this data analysis."
   ]
  },
  {
   "cell_type": "markdown",
   "id": "e5b2f4fb",
   "metadata": {},
   "source": [
    "# 2. Distribution of Salary by Gender"
   ]
  },
  {
   "cell_type": "code",
   "execution_count": null,
   "id": "58ceaffb",
   "metadata": {},
   "outputs": [],
   "source": [
    "fig, ax = plt.subplots(figsize=(8, 6))\n",
    "sns.kdeplot(data=df, x='Salary', hue='Gender', fill=True, common_norm=False, alpha=0.4)\n",
    "# Add title using ax.set_title()\n",
    "ax.set_title('Distribution of Salary by Gender')\n",
    "plt.show()\n"
   ]
  },
  {
   "cell_type": "code",
   "execution_count": null,
   "id": "38e494e3",
   "metadata": {
    "scrolled": true
   },
   "outputs": [],
   "source": [
    "df.groupby('Gender')[['Salary']].describe()"
   ]
  },
  {
   "cell_type": "markdown",
   "id": "0b8bd374",
   "metadata": {},
   "source": [
    "Interpretation: In this dataset of a total of 200 employees, there is an equal representation of males and females. There are 100 males and 100 females. This ensures that recruitment and hiring practices are fair and unbiased. The female salary range across 30k-117k and male salary range across 31k-120k. In this graph, females are slightly dominant in the higher range around 100k+ and males are slightly dominant at 60k+. Overall, the distribution of salary is equivalent with a mean salary at 76k. This concludes to show no gender disparity which entails that there is equal opportunity for compensation and promotions in similar roles and with comparable experience."
   ]
  },
  {
   "cell_type": "markdown",
   "id": "9ee3ecda",
   "metadata": {},
   "source": [
    "# 3. Distribution of Salary by Positions"
   ]
  },
  {
   "cell_type": "code",
   "execution_count": null,
   "id": "b5baf04e",
   "metadata": {},
   "outputs": [],
   "source": [
    "order = df.groupby(\"Position\")[\"Salary\"].mean().sort_values(ascending=False).index"
   ]
  },
  {
   "cell_type": "code",
   "execution_count": null,
   "id": "31b4a761",
   "metadata": {},
   "outputs": [],
   "source": [
    "# KDE plot with hues\n",
    "fig, ax = plt.subplots(figsize=(8, 6))\n",
    "sns.kdeplot(data=df, x='Salary', hue='Position', fill=True, common_norm=False, alpha=0.4)\n",
    "# Add title using ax.set_title()\n",
    "ax.set_title('Distribution of Salary by Position')\n",
    "plt.show()"
   ]
  },
  {
   "cell_type": "code",
   "execution_count": null,
   "id": "3a6cd5ac",
   "metadata": {
    "scrolled": false
   },
   "outputs": [],
   "source": [
    "df.groupby('Position')[['Salary']].describe()"
   ]
  },
  {
   "cell_type": "markdown",
   "id": "b4e06fec",
   "metadata": {},
   "source": [
    "Interpretation:The salary distribution by job title is shown with Managers leading the higher-end of compensation range of 100k-120k. Team leads are slightly overlapping with Mangers with a range of 90k-108k. Surprisingly, Senior Developers are not in the 100K group. Their salary ranges from 80K-90K. Below the Senior Developers, the Analysts range across 60k-75k, descending with Junior Developers at the range of 45k-60k. Lastly, the Interns are at the lowest margin of salary at 30-40K. Recalling from the salary distribution with bimodularity shown earlier- Junior Developers are that significant group at 40-60K and Managers are the other dominant group at 100k-120k. "
   ]
  },
  {
   "cell_type": "markdown",
   "id": "31a76660",
   "metadata": {},
   "source": [
    "# 4. Distribution of Employees by Position"
   ]
  },
  {
   "cell_type": "code",
   "execution_count": null,
   "id": "58e55d57",
   "metadata": {
    "scrolled": false
   },
   "outputs": [],
   "source": [
    "count_Pos = df['Position'].value_counts().reset_index()\n",
    "count_Pos.columns=['Position','Number']\n",
    "count_Pos"
   ]
  },
  {
   "cell_type": "code",
   "execution_count": null,
   "id": "a23c96d3",
   "metadata": {},
   "outputs": [],
   "source": [
    "order = count_Pos.groupby(\"Position\")[\"Number\"].mean().sort_values(ascending=False).index"
   ]
  },
  {
   "cell_type": "code",
   "execution_count": null,
   "id": "2e211463",
   "metadata": {},
   "outputs": [],
   "source": [
    "# Create a palette mapping for the unique positions\n",
    "positions = df['Position'].unique()\n",
    "palette = dict(zip(positions, sns.color_palette()))"
   ]
  },
  {
   "cell_type": "code",
   "execution_count": null,
   "id": "dd960956",
   "metadata": {},
   "outputs": [],
   "source": [
    "sns.barplot(data=count_Pos, x='Position', y='Number', order=order, palette=palette, ci=None, alpha=0.7)\n",
    "plt.xticks(rotation=90)\n",
    "# Add title to the plot\n",
    "plt.title('Distribution of Employees by Positon')\n",
    "plt.show()"
   ]
  },
  {
   "cell_type": "markdown",
   "id": "8754e9ff",
   "metadata": {},
   "source": [
    "Interpretation: The bar plot shows the number of employees in each position with Mangers leading with 40 employees followed by Junior Developers at 35. The rest of the positions are roughly about the same number of employees in the 30+ range. The distribution of employees indicates that Managers have a higher representation and holds higher-end compensations in this company which concludes to say that the top ten percentile are all Managers. Interestingly, Team Leads and Senior Developers do not make it to the top ten percentile. "
   ]
  },
  {
   "cell_type": "markdown",
   "id": "6df1a7b5",
   "metadata": {},
   "source": [
    "# 5. Distribution of Top Ten Percentile Salary by Department"
   ]
  },
  {
   "cell_type": "code",
   "execution_count": null,
   "id": "025cad49",
   "metadata": {
    "scrolled": true
   },
   "outputs": [],
   "source": [
    "top_ten_quan = df.Salary.quantile(0.9)\n",
    "dfTopTen = df[df['Salary'] > top_ten_quan]\n",
    "dfTopTen"
   ]
  },
  {
   "cell_type": "code",
   "execution_count": null,
   "id": "b5f490a7",
   "metadata": {},
   "outputs": [],
   "source": [
    "fig, ax = plt.subplots(figsize=(8, 6))\n",
    "sns.kdeplot(data=dfTopTen, x='Salary', hue='Department', fill=True, common_norm=False, alpha=0.4)\n",
    "# Add title using ax.set_title()\n",
    "ax.set_title('Top Ten Percentile Salary by Department')\n",
    "plt.show()"
   ]
  },
  {
   "cell_type": "code",
   "execution_count": null,
   "id": "5a835016",
   "metadata": {},
   "outputs": [],
   "source": [
    "dfTopTen.groupby('Department')[['Salary']].describe()"
   ]
  },
  {
   "cell_type": "markdown",
   "id": "c5cf5aa9",
   "metadata": {},
   "source": [
    "Interpretation: The top ten percentile consists of 20 Managers across five departments. The distribution of salary by department shows five in Finance, three in Marketing, three in IT, and six in Sales having the highest salary at the maximum at 118k-119k. Three employees in HR salary's distribution is clustered tightly with a mean salary at 116K. HR department has consistent pay structure whereas the other departments compensations are more spread out."
   ]
  },
  {
   "cell_type": "markdown",
   "id": "22ffc478",
   "metadata": {},
   "source": [
    "# 6. Relationship Between Salary and Project Completed"
   ]
  },
  {
   "cell_type": "code",
   "execution_count": null,
   "id": "feab2a29",
   "metadata": {},
   "outputs": [],
   "source": [
    "df.plot.scatter(x='Projects Completed', y='Salary', title = 'Project Completed vs. Salary')"
   ]
  },
  {
   "cell_type": "code",
   "execution_count": null,
   "id": "1763a9cf",
   "metadata": {
    "scrolled": false
   },
   "outputs": [],
   "source": [
    "df.groupby('Position')[['Projects Completed']].describe()\n"
   ]
  },
  {
   "cell_type": "code",
   "execution_count": null,
   "id": "a3d00dfd",
   "metadata": {
    "scrolled": true
   },
   "outputs": [],
   "source": [
    "from scipy.stats import pearsonr\n",
    "corr, p_value = pearsonr(df['Salary'], df['Projects Completed'])\n",
    "print(f\"Correlation: {corr}, P-value: {p_value}\")"
   ]
  },
  {
   "cell_type": "markdown",
   "id": "d7b87367",
   "metadata": {},
   "source": [
    "Interpretation: The scatter plot shows a strong positive correlation of 0.87 between salary and projects completed. This could possibly link to performance-based compensation where employees' performance is rewarded for completing projects. If this is the case, then this can motivate employees to work harder and strive for excellence when they know their efforts will be rewarded. It will be interesting to see how employees' productivity rate (%) and satisfactory rate (%) are related and how it impacts salary."
   ]
  }
 ],
 "metadata": {
  "kernelspec": {
   "display_name": "Python 3 (ipykernel)",
   "language": "python",
   "name": "python3"
  },
  "language_info": {
   "codemirror_mode": {
    "name": "ipython",
    "version": 3
   },
   "file_extension": ".py",
   "mimetype": "text/x-python",
   "name": "python",
   "nbconvert_exporter": "python",
   "pygments_lexer": "ipython3",
   "version": "3.9.13"
  }
 },
 "nbformat": 4,
 "nbformat_minor": 5
}
