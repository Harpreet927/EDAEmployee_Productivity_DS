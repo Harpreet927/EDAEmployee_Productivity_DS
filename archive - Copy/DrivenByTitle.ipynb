{
 "cells": [
  {
   "cell_type": "code",
   "execution_count": 1,
   "id": "0ef76328",
   "metadata": {},
   "outputs": [],
   "source": [
    "# Load the 'Employee Productivity and Satisfaction HR Data' dataset\n",
    "import pandas as pd\n",
    "import seaborn as sns\n",
    "import matplotlib.pyplot as plt\n",
    "import numpy as np\n",
    "\n",
    "Employee = pd.read_csv('hr_dashboard_data.csv')"
   ]
  },
  {
   "cell_type": "code",
   "execution_count": 9,
   "id": "7b4888c6",
   "metadata": {},
   "outputs": [
    {
     "data": {
      "text/html": [
       "<div>\n",
       "<style scoped>\n",
       "    .dataframe tbody tr th:only-of-type {\n",
       "        vertical-align: middle;\n",
       "    }\n",
       "\n",
       "    .dataframe tbody tr th {\n",
       "        vertical-align: top;\n",
       "    }\n",
       "\n",
       "    .dataframe thead th {\n",
       "        text-align: right;\n",
       "    }\n",
       "</style>\n",
       "<table border=\"1\" class=\"dataframe\">\n",
       "  <thead>\n",
       "    <tr style=\"text-align: right;\">\n",
       "      <th></th>\n",
       "      <th>Name</th>\n",
       "      <th>Age</th>\n",
       "      <th>Gender</th>\n",
       "      <th>Projects Completed</th>\n",
       "      <th>Productivity (%)</th>\n",
       "      <th>Satisfaction Rate (%)</th>\n",
       "      <th>Feedback Score</th>\n",
       "      <th>Department</th>\n",
       "      <th>Position</th>\n",
       "      <th>Joining Date</th>\n",
       "      <th>Salary</th>\n",
       "    </tr>\n",
       "  </thead>\n",
       "  <tbody>\n",
       "    <tr>\n",
       "      <th>0</th>\n",
       "      <td>Douglas Lindsey</td>\n",
       "      <td>25</td>\n",
       "      <td>Male</td>\n",
       "      <td>11</td>\n",
       "      <td>57</td>\n",
       "      <td>25</td>\n",
       "      <td>4.7</td>\n",
       "      <td>Marketing</td>\n",
       "      <td>Analyst</td>\n",
       "      <td>Jan-20</td>\n",
       "      <td>63596</td>\n",
       "    </tr>\n",
       "    <tr>\n",
       "      <th>1</th>\n",
       "      <td>Anthony Roberson</td>\n",
       "      <td>59</td>\n",
       "      <td>Female</td>\n",
       "      <td>19</td>\n",
       "      <td>55</td>\n",
       "      <td>76</td>\n",
       "      <td>2.8</td>\n",
       "      <td>IT</td>\n",
       "      <td>Manager</td>\n",
       "      <td>Jan-99</td>\n",
       "      <td>112540</td>\n",
       "    </tr>\n",
       "    <tr>\n",
       "      <th>2</th>\n",
       "      <td>Thomas Miller</td>\n",
       "      <td>30</td>\n",
       "      <td>Male</td>\n",
       "      <td>8</td>\n",
       "      <td>87</td>\n",
       "      <td>10</td>\n",
       "      <td>2.4</td>\n",
       "      <td>IT</td>\n",
       "      <td>Analyst</td>\n",
       "      <td>Jan-17</td>\n",
       "      <td>66292</td>\n",
       "    </tr>\n",
       "    <tr>\n",
       "      <th>3</th>\n",
       "      <td>Joshua Lewis</td>\n",
       "      <td>26</td>\n",
       "      <td>Female</td>\n",
       "      <td>1</td>\n",
       "      <td>53</td>\n",
       "      <td>4</td>\n",
       "      <td>1.4</td>\n",
       "      <td>Marketing</td>\n",
       "      <td>Intern</td>\n",
       "      <td>Jan-22</td>\n",
       "      <td>38303</td>\n",
       "    </tr>\n",
       "    <tr>\n",
       "      <th>4</th>\n",
       "      <td>Stephanie Bailey</td>\n",
       "      <td>43</td>\n",
       "      <td>Male</td>\n",
       "      <td>14</td>\n",
       "      <td>3</td>\n",
       "      <td>9</td>\n",
       "      <td>4.5</td>\n",
       "      <td>IT</td>\n",
       "      <td>Team Lead</td>\n",
       "      <td>Jan-05</td>\n",
       "      <td>101133</td>\n",
       "    </tr>\n",
       "  </tbody>\n",
       "</table>\n",
       "</div>"
      ],
      "text/plain": [
       "               Name  Age  Gender  Projects Completed  Productivity (%)  \\\n",
       "0   Douglas Lindsey   25    Male                  11                57   \n",
       "1  Anthony Roberson   59  Female                  19                55   \n",
       "2     Thomas Miller   30    Male                   8                87   \n",
       "3      Joshua Lewis   26  Female                   1                53   \n",
       "4  Stephanie Bailey   43    Male                  14                 3   \n",
       "\n",
       "   Satisfaction Rate (%)  Feedback Score Department   Position Joining Date  \\\n",
       "0                     25             4.7  Marketing    Analyst       Jan-20   \n",
       "1                     76             2.8         IT    Manager       Jan-99   \n",
       "2                     10             2.4         IT    Analyst       Jan-17   \n",
       "3                      4             1.4  Marketing     Intern       Jan-22   \n",
       "4                      9             4.5         IT  Team Lead       Jan-05   \n",
       "\n",
       "   Salary  \n",
       "0   63596  \n",
       "1  112540  \n",
       "2   66292  \n",
       "3   38303  \n",
       "4  101133  "
      ]
     },
     "execution_count": 9,
     "metadata": {},
     "output_type": "execute_result"
    }
   ],
   "source": [
    "Employee.head()"
   ]
  },
  {
   "cell_type": "code",
   "execution_count": 2,
   "id": "61d5ad07",
   "metadata": {},
   "outputs": [
    {
     "data": {
      "text/html": [
       "<div>\n",
       "<style scoped>\n",
       "    .dataframe tbody tr th:only-of-type {\n",
       "        vertical-align: middle;\n",
       "    }\n",
       "\n",
       "    .dataframe tbody tr th {\n",
       "        vertical-align: top;\n",
       "    }\n",
       "\n",
       "    .dataframe thead th {\n",
       "        text-align: right;\n",
       "    }\n",
       "</style>\n",
       "<table border=\"1\" class=\"dataframe\">\n",
       "  <thead>\n",
       "    <tr style=\"text-align: right;\">\n",
       "      <th></th>\n",
       "      <th>Position</th>\n",
       "      <th>Count</th>\n",
       "    </tr>\n",
       "  </thead>\n",
       "  <tbody>\n",
       "    <tr>\n",
       "      <th>0</th>\n",
       "      <td>Manager</td>\n",
       "      <td>40</td>\n",
       "    </tr>\n",
       "    <tr>\n",
       "      <th>1</th>\n",
       "      <td>Junior Developer</td>\n",
       "      <td>35</td>\n",
       "    </tr>\n",
       "    <tr>\n",
       "      <th>2</th>\n",
       "      <td>Analyst</td>\n",
       "      <td>33</td>\n",
       "    </tr>\n",
       "    <tr>\n",
       "      <th>3</th>\n",
       "      <td>Team Lead</td>\n",
       "      <td>32</td>\n",
       "    </tr>\n",
       "    <tr>\n",
       "      <th>4</th>\n",
       "      <td>Intern</td>\n",
       "      <td>30</td>\n",
       "    </tr>\n",
       "    <tr>\n",
       "      <th>5</th>\n",
       "      <td>Senior Developer</td>\n",
       "      <td>30</td>\n",
       "    </tr>\n",
       "  </tbody>\n",
       "</table>\n",
       "</div>"
      ],
      "text/plain": [
       "           Position  Count\n",
       "0           Manager     40\n",
       "1  Junior Developer     35\n",
       "2           Analyst     33\n",
       "3         Team Lead     32\n",
       "4            Intern     30\n",
       "5  Senior Developer     30"
      ]
     },
     "execution_count": 2,
     "metadata": {},
     "output_type": "execute_result"
    }
   ],
   "source": [
    "#number of employees in unique positions\n",
    "total = Employee['Position'].value_counts().reset_index()\n",
    "total.columns=['Position','Count']\n",
    "\n",
    "total"
   ]
  },
  {
   "cell_type": "code",
   "execution_count": 3,
   "id": "1e49b446",
   "metadata": {
    "scrolled": true
   },
   "outputs": [
    {
     "data": {
      "image/png": "[encoded data removed]",
      "text/plain": [
       "<Figure size 640x480 with 1 Axes>"
      ]
     },
     "metadata": {},
     "output_type": "display_data"
    }
   ],
   "source": [
    "position_counts = Employee['Position'].value_counts()\n",
    "position_counts.plot(kind='bar');"
   ]
  },
  {
   "cell_type": "code",
   "execution_count": 12,
   "id": "30039e6b",
   "metadata": {
    "scrolled": true
   },
   "outputs": [
    {
     "data": {
      "text/html": [
       "<div>\n",
       "<style scoped>\n",
       "    .dataframe tbody tr th:only-of-type {\n",
       "        vertical-align: middle;\n",
       "    }\n",
       "\n",
       "    .dataframe tbody tr th {\n",
       "        vertical-align: top;\n",
       "    }\n",
       "\n",
       "    .dataframe thead th {\n",
       "        text-align: right;\n",
       "    }\n",
       "</style>\n",
       "<table border=\"1\" class=\"dataframe\">\n",
       "  <thead>\n",
       "    <tr style=\"text-align: right;\">\n",
       "      <th></th>\n",
       "      <th>Position</th>\n",
       "      <th>Number</th>\n",
       "    </tr>\n",
       "  </thead>\n",
       "  <tbody>\n",
       "    <tr>\n",
       "      <th>0</th>\n",
       "      <td>Manager</td>\n",
       "      <td>40</td>\n",
       "    </tr>\n",
       "    <tr>\n",
       "      <th>1</th>\n",
       "      <td>Junior Developer</td>\n",
       "      <td>35</td>\n",
       "    </tr>\n",
       "    <tr>\n",
       "      <th>2</th>\n",
       "      <td>Analyst</td>\n",
       "      <td>33</td>\n",
       "    </tr>\n",
       "    <tr>\n",
       "      <th>3</th>\n",
       "      <td>Team Lead</td>\n",
       "      <td>32</td>\n",
       "    </tr>\n",
       "    <tr>\n",
       "      <th>4</th>\n",
       "      <td>Intern</td>\n",
       "      <td>30</td>\n",
       "    </tr>\n",
       "    <tr>\n",
       "      <th>5</th>\n",
       "      <td>Senior Developer</td>\n",
       "      <td>30</td>\n",
       "    </tr>\n",
       "  </tbody>\n",
       "</table>\n",
       "</div>"
      ],
      "text/plain": [
       "           Position  Number\n",
       "0           Manager      40\n",
       "1  Junior Developer      35\n",
       "2           Analyst      33\n",
       "3         Team Lead      32\n",
       "4            Intern      30\n",
       "5  Senior Developer      30"
      ]
     },
     "execution_count": 12,
     "metadata": {},
     "output_type": "execute_result"
    }
   ],
   "source": [
    "count_Pos = Employee['Position'].value_counts().reset_index()\n",
    "count_Pos.columns=['Position','Number']\n",
    "count_Pos"
   ]
  },
  {
   "cell_type": "code",
   "execution_count": 13,
   "id": "376c2d1f",
   "metadata": {
    "scrolled": true
   },
   "outputs": [
    {
     "data": {
      "image/png": "[encoded data removed]",
      "text/plain": [
       "<Figure size 640x480 with 1 Axes>"
      ]
     },
     "metadata": {},
     "output_type": "display_data"
    }
   ],
   "source": [
    "color = ['lightblue', 'blue', 'purple', 'red', 'black', 'orange']\n",
    "edgecolor = ['red', 'orange', 'darkblue', 'darkred', 'yellow', 'black']\n",
    "fig, ax = plt.subplots()\n",
    "ax.bar(count_Pos['Position'], count_Pos['Number'],\n",
    "       color=color,\n",
    "       edgecolor=edgecolor,\n",
    "       linewidth=3)\n",
    "plt.xticks(rotation=90)\n",
    "\n",
    "# Show graph\n",
    "plt.show()"
   ]
  },
  {
   "cell_type": "code",
   "execution_count": 4,
   "id": "705b2609",
   "metadata": {},
   "outputs": [
    {
     "data": {
      "text/html": [
       "<div>\n",
       "<style scoped>\n",
       "    .dataframe tbody tr th:only-of-type {\n",
       "        vertical-align: middle;\n",
       "    }\n",
       "\n",
       "    .dataframe tbody tr th {\n",
       "        vertical-align: top;\n",
       "    }\n",
       "\n",
       "    .dataframe thead th {\n",
       "        text-align: right;\n",
       "    }\n",
       "</style>\n",
       "<table border=\"1\" class=\"dataframe\">\n",
       "  <thead>\n",
       "    <tr style=\"text-align: right;\">\n",
       "      <th></th>\n",
       "      <th>Position</th>\n",
       "      <th>Salary</th>\n",
       "    </tr>\n",
       "  </thead>\n",
       "  <tbody>\n",
       "    <tr>\n",
       "      <th>0</th>\n",
       "      <td>Analyst</td>\n",
       "      <td>68195.696970</td>\n",
       "    </tr>\n",
       "    <tr>\n",
       "      <th>1</th>\n",
       "      <td>Intern</td>\n",
       "      <td>34811.500000</td>\n",
       "    </tr>\n",
       "    <tr>\n",
       "      <th>2</th>\n",
       "      <td>Junior Developer</td>\n",
       "      <td>52104.114286</td>\n",
       "    </tr>\n",
       "    <tr>\n",
       "      <th>3</th>\n",
       "      <td>Manager</td>\n",
       "      <td>110091.475000</td>\n",
       "    </tr>\n",
       "    <tr>\n",
       "      <th>4</th>\n",
       "      <td>Senior Developer</td>\n",
       "      <td>86481.500000</td>\n",
       "    </tr>\n",
       "    <tr>\n",
       "      <th>5</th>\n",
       "      <td>Team Lead</td>\n",
       "      <td>100228.062500</td>\n",
       "    </tr>\n",
       "  </tbody>\n",
       "</table>\n",
       "</div>"
      ],
      "text/plain": [
       "           Position         Salary\n",
       "0           Analyst   68195.696970\n",
       "1            Intern   34811.500000\n",
       "2  Junior Developer   52104.114286\n",
       "3           Manager  110091.475000\n",
       "4  Senior Developer   86481.500000\n",
       "5         Team Lead  100228.062500"
      ]
     },
     "execution_count": 4,
     "metadata": {},
     "output_type": "execute_result"
    }
   ],
   "source": [
    "#Distribution of avg salary for different positons \n",
    "df = Employee.groupby(['Position'])[['Salary']].mean().reset_index()\n",
    "df"
   ]
  },
  {
   "cell_type": "code",
   "execution_count": 5,
   "id": "5060b107",
   "metadata": {},
   "outputs": [
    {
     "data": {
      "text/plain": [
       "<AxesSubplot:title={'center':'Average Salary by Position'}, xlabel='Position'>"
      ]
     },
     "execution_count": 5,
     "metadata": {},
     "output_type": "execute_result"
    },
    {
     "data": {
      "image/png": "[encoded data removed]",
      "text/plain": [
       "<Figure size 640x480 with 1 Axes>"
      ]
     },
     "metadata": {},
     "output_type": "display_data"
    }
   ],
   "source": [
    "df.plot.bar(x='Position', y='Salary', title = 'Average Salary by Position')"
   ]
  },
  {
   "cell_type": "code",
   "execution_count": 35,
   "id": "9cdb527b",
   "metadata": {},
   "outputs": [
    {
     "data": {
      "text/html": [
       "<div>\n",
       "<style scoped>\n",
       "    .dataframe tbody tr th:only-of-type {\n",
       "        vertical-align: middle;\n",
       "    }\n",
       "\n",
       "    .dataframe tbody tr th {\n",
       "        vertical-align: top;\n",
       "    }\n",
       "\n",
       "    .dataframe thead th {\n",
       "        text-align: right;\n",
       "    }\n",
       "</style>\n",
       "<table border=\"1\" class=\"dataframe\">\n",
       "  <thead>\n",
       "    <tr style=\"text-align: right;\">\n",
       "      <th></th>\n",
       "      <th>Position</th>\n",
       "      <th>Productivity (%)</th>\n",
       "      <th>Satisfaction Rate (%)</th>\n",
       "      <th>Projects Completed</th>\n",
       "    </tr>\n",
       "  </thead>\n",
       "  <tbody>\n",
       "    <tr>\n",
       "      <th>0</th>\n",
       "      <td>Analyst</td>\n",
       "      <td>44.545455</td>\n",
       "      <td>39.787879</td>\n",
       "      <td>9.393939</td>\n",
       "    </tr>\n",
       "    <tr>\n",
       "      <th>1</th>\n",
       "      <td>Intern</td>\n",
       "      <td>41.333333</td>\n",
       "      <td>55.266667</td>\n",
       "      <td>2.700000</td>\n",
       "    </tr>\n",
       "    <tr>\n",
       "      <th>2</th>\n",
       "      <td>Junior Developer</td>\n",
       "      <td>52.314286</td>\n",
       "      <td>54.057143</td>\n",
       "      <td>6.771429</td>\n",
       "    </tr>\n",
       "    <tr>\n",
       "      <th>3</th>\n",
       "      <td>Manager</td>\n",
       "      <td>48.675000</td>\n",
       "      <td>55.575000</td>\n",
       "      <td>19.975000</td>\n",
       "    </tr>\n",
       "    <tr>\n",
       "      <th>4</th>\n",
       "      <td>Senior Developer</td>\n",
       "      <td>50.233333</td>\n",
       "      <td>50.400000</td>\n",
       "      <td>12.833333</td>\n",
       "    </tr>\n",
       "    <tr>\n",
       "      <th>5</th>\n",
       "      <td>Team Lead</td>\n",
       "      <td>42.375000</td>\n",
       "      <td>43.406250</td>\n",
       "      <td>14.968750</td>\n",
       "    </tr>\n",
       "  </tbody>\n",
       "</table>\n",
       "</div>"
      ],
      "text/plain": [
       "           Position  Productivity (%)  Satisfaction Rate (%)  \\\n",
       "0           Analyst         44.545455              39.787879   \n",
       "1            Intern         41.333333              55.266667   \n",
       "2  Junior Developer         52.314286              54.057143   \n",
       "3           Manager         48.675000              55.575000   \n",
       "4  Senior Developer         50.233333              50.400000   \n",
       "5         Team Lead         42.375000              43.406250   \n",
       "\n",
       "   Projects Completed  \n",
       "0            9.393939  \n",
       "1            2.700000  \n",
       "2            6.771429  \n",
       "3           19.975000  \n",
       "4           12.833333  \n",
       "5           14.968750  "
      ]
     },
     "execution_count": 35,
     "metadata": {},
     "output_type": "execute_result"
    }
   ],
   "source": [
    "# Average Productivity and Satisfaction rate by Position\n",
    "avg_by_post = Employee.groupby('Position')[['Productivity (%)', 'Satisfaction Rate (%)', 'Projects Completed']].mean().reset_index()\n",
    "avg_by_post"
   ]
  },
  {
   "cell_type": "code",
   "execution_count": 33,
   "id": "74bf4bb3",
   "metadata": {
    "scrolled": true
   },
   "outputs": [
    {
     "data": {
      "text/plain": [
       "<AxesSubplot:title={'center':'Average Productivity and Satisfaction Rate by Position'}, xlabel='Position'>"
      ]
     },
     "execution_count": 33,
     "metadata": {},
     "output_type": "execute_result"
    },
    {
     "data": {
      "image/png": "[encoded data removed]",
      "text/plain": [
       "<Figure size 640x480 with 1 Axes>"
      ]
     },
     "metadata": {},
     "output_type": "display_data"
    }
   ],
   "source": [
    "avg_by_post.plot.bar(x='Position', y=['Productivity (%)', 'Satisfaction Rate (%)', 'Projects Completed'], \n",
    "                     title='Average Productivity and Satisfaction Rate by Position') "
   ]
  },
  {
   "cell_type": "code",
   "execution_count": 30,
   "id": "16696112",
   "metadata": {
    "scrolled": false
   },
   "outputs": [
    {
     "data": {
      "text/html": [
       "<div>\n",
       "<style scoped>\n",
       "    .dataframe tbody tr th:only-of-type {\n",
       "        vertical-align: middle;\n",
       "    }\n",
       "\n",
       "    .dataframe tbody tr th {\n",
       "        vertical-align: top;\n",
       "    }\n",
       "\n",
       "    .dataframe thead th {\n",
       "        text-align: right;\n",
       "    }\n",
       "</style>\n",
       "<table border=\"1\" class=\"dataframe\">\n",
       "  <thead>\n",
       "    <tr style=\"text-align: right;\">\n",
       "      <th></th>\n",
       "      <th>Position</th>\n",
       "      <th>Projects Completed</th>\n",
       "    </tr>\n",
       "  </thead>\n",
       "  <tbody>\n",
       "    <tr>\n",
       "      <th>0</th>\n",
       "      <td>Analyst</td>\n",
       "      <td>15</td>\n",
       "    </tr>\n",
       "    <tr>\n",
       "      <th>1</th>\n",
       "      <td>Intern</td>\n",
       "      <td>5</td>\n",
       "    </tr>\n",
       "    <tr>\n",
       "      <th>2</th>\n",
       "      <td>Junior Developer</td>\n",
       "      <td>10</td>\n",
       "    </tr>\n",
       "    <tr>\n",
       "      <th>3</th>\n",
       "      <td>Manager</td>\n",
       "      <td>25</td>\n",
       "    </tr>\n",
       "    <tr>\n",
       "      <th>4</th>\n",
       "      <td>Senior Developer</td>\n",
       "      <td>18</td>\n",
       "    </tr>\n",
       "    <tr>\n",
       "      <th>5</th>\n",
       "      <td>Team Lead</td>\n",
       "      <td>20</td>\n",
       "    </tr>\n",
       "  </tbody>\n",
       "</table>\n",
       "</div>"
      ],
      "text/plain": [
       "           Position  Projects Completed\n",
       "0           Analyst                  15\n",
       "1            Intern                   5\n",
       "2  Junior Developer                  10\n",
       "3           Manager                  25\n",
       "4  Senior Developer                  18\n",
       "5         Team Lead                  20"
      ]
     },
     "execution_count": 30,
     "metadata": {},
     "output_type": "execute_result"
    }
   ],
   "source": [
    "# Maximum Projects Completed by Position\n",
    "maxbypost = Employee.groupby('Position')[['Projects Completed']].max().reset_index()\n",
    "maxbypost"
   ]
  },
  {
   "cell_type": "code",
   "execution_count": 31,
   "id": "88b92362",
   "metadata": {
    "scrolled": true
   },
   "outputs": [
    {
     "data": {
      "text/plain": [
       "<AxesSubplot:title={'center':'Maximum Projects Completed by Position'}, xlabel='Position'>"
      ]
     },
     "execution_count": 31,
     "metadata": {},
     "output_type": "execute_result"
    },
    {
     "data": {
      "image/png": "[encoded data removed]",
      "text/plain": [
       "<Figure size 640x480 with 1 Axes>"
      ]
     },
     "metadata": {},
     "output_type": "display_data"
    }
   ],
   "source": [
    "maxbypost.plot.bar(x='Position', y=['Projects Completed'], \n",
    "                     title='Maximum Projects Completed by Position') "
   ]
  },
  {
   "cell_type": "code",
   "execution_count": 36,
   "id": "3aa6c093",
   "metadata": {},
   "outputs": [
    {
     "data": {
      "text/html": [
       "<div>\n",
       "<style scoped>\n",
       "    .dataframe tbody tr th:only-of-type {\n",
       "        vertical-align: middle;\n",
       "    }\n",
       "\n",
       "    .dataframe tbody tr th {\n",
       "        vertical-align: top;\n",
       "    }\n",
       "\n",
       "    .dataframe thead th {\n",
       "        text-align: right;\n",
       "    }\n",
       "</style>\n",
       "<table border=\"1\" class=\"dataframe\">\n",
       "  <thead>\n",
       "    <tr style=\"text-align: right;\">\n",
       "      <th></th>\n",
       "      <th>Position</th>\n",
       "      <th>Feedback Score</th>\n",
       "    </tr>\n",
       "  </thead>\n",
       "  <tbody>\n",
       "    <tr>\n",
       "      <th>0</th>\n",
       "      <td>Analyst</td>\n",
       "      <td>2.766667</td>\n",
       "    </tr>\n",
       "    <tr>\n",
       "      <th>1</th>\n",
       "      <td>Intern</td>\n",
       "      <td>2.953333</td>\n",
       "    </tr>\n",
       "    <tr>\n",
       "      <th>2</th>\n",
       "      <td>Junior Developer</td>\n",
       "      <td>2.848571</td>\n",
       "    </tr>\n",
       "    <tr>\n",
       "      <th>3</th>\n",
       "      <td>Manager</td>\n",
       "      <td>3.022500</td>\n",
       "    </tr>\n",
       "    <tr>\n",
       "      <th>4</th>\n",
       "      <td>Senior Developer</td>\n",
       "      <td>2.633333</td>\n",
       "    </tr>\n",
       "    <tr>\n",
       "      <th>5</th>\n",
       "      <td>Team Lead</td>\n",
       "      <td>3.034375</td>\n",
       "    </tr>\n",
       "  </tbody>\n",
       "</table>\n",
       "</div>"
      ],
      "text/plain": [
       "           Position  Feedback Score\n",
       "0           Analyst        2.766667\n",
       "1            Intern        2.953333\n",
       "2  Junior Developer        2.848571\n",
       "3           Manager        3.022500\n",
       "4  Senior Developer        2.633333\n",
       "5         Team Lead        3.034375"
      ]
     },
     "execution_count": 36,
     "metadata": {},
     "output_type": "execute_result"
    }
   ],
   "source": [
    "# Avg Feedback Score by Position\n",
    "Feedbackbypost = Employee.groupby('Position')[['Feedback Score']].mean().reset_index()\n",
    "Feedbackbypost"
   ]
  },
  {
   "cell_type": "code",
   "execution_count": 39,
   "id": "1060f209",
   "metadata": {
    "scrolled": true
   },
   "outputs": [
    {
     "data": {
      "text/plain": [
       "<AxesSubplot:title={'center':'Avg Feedback Score by Position'}, xlabel='Position'>"
      ]
     },
     "execution_count": 39,
     "metadata": {},
     "output_type": "execute_result"
    },
    {
     "data": {
      "image/png": "[encoded data removed]",
      "text/plain": [
       "<Figure size 640x480 with 1 Axes>"
      ]
     },
     "metadata": {},
     "output_type": "display_data"
    }
   ],
   "source": [
    "Feedbackbypost.plot.bar(x='Position', y=['Feedback Score'], \n",
    "                     title='Avg Feedback Score by Position') "
   ]
  },
  {
   "cell_type": "code",
   "execution_count": 1,
   "id": "ab356bf0",
   "metadata": {},
   "outputs": [
    {
     "ename": "NameError",
     "evalue": "name 'df' is not defined",
     "output_type": "error",
     "traceback": [
      "\u001b[1;31m---------------------------------------------------------------------------\u001b[0m",
      "\u001b[1;31mNameError\u001b[0m                                 Traceback (most recent call last)",
      "\u001b[1;32m~\\AppData\\Local\\Temp\\ipykernel_40316\\3765665581.py\u001b[0m in \u001b[0;36m<module>\u001b[1;34m\u001b[0m\n\u001b[0;32m      2\u001b[0m \u001b[1;32mimport\u001b[0m \u001b[0mmatplotlib\u001b[0m\u001b[1;33m.\u001b[0m\u001b[0mpyplot\u001b[0m \u001b[1;32mas\u001b[0m \u001b[0mplt\u001b[0m\u001b[1;33m\u001b[0m\u001b[1;33m\u001b[0m\u001b[0m\n\u001b[0;32m      3\u001b[0m \u001b[1;31m# Check the first few rows to verify column names\u001b[0m\u001b[1;33m\u001b[0m\u001b[1;33m\u001b[0m\u001b[0m\n\u001b[1;32m----> 4\u001b[1;33m \u001b[0mprint\u001b[0m\u001b[1;33m(\u001b[0m\u001b[0mdf\u001b[0m\u001b[1;33m.\u001b[0m\u001b[0mhead\u001b[0m\u001b[1;33m(\u001b[0m\u001b[1;33m)\u001b[0m\u001b[1;33m)\u001b[0m\u001b[1;33m\u001b[0m\u001b[1;33m\u001b[0m\u001b[0m\n\u001b[0m\u001b[0;32m      5\u001b[0m \u001b[1;31m# Optional: Set a scale factor for bubble sizes if productivity values are small.\u001b[0m\u001b[1;33m\u001b[0m\u001b[1;33m\u001b[0m\u001b[0m\n\u001b[0;32m      6\u001b[0m \u001b[0mscale_factor\u001b[0m \u001b[1;33m=\u001b[0m \u001b[1;36m100\u001b[0m  \u001b[1;31m# Adjust this value as needed\u001b[0m\u001b[1;33m\u001b[0m\u001b[1;33m\u001b[0m\u001b[0m\n",
      "\u001b[1;31mNameError\u001b[0m: name 'df' is not defined"
     ]
    }
   ],
   "source": [
    "import pandas as pd\n",
    "import matplotlib.pyplot as plt\n",
    "# Check the first few rows to verify column names\n",
    "print(df.head())\n",
    "# Optional: Set a scale factor for bubble sizes if productivity values are small.\n",
    "scale_factor = 100  # Adjust this value as needed\n",
    "plt.figure(figsize=(10, 6))\n",
    "plt.scatter(df['Salary'], df['Age'], s=df['Productivity (%)'] * scale_factor, alpha=0.6, edgecolors='w')\n",
    "plt.xlabel('Salary')\n",
    "plt.ylabel('Age')\n",
    "plt.title('Employee Bubble Plot: Salary vs. Age (Bubble size = Productivity)')\n",
    "plt.grid(True)\n",
    "plt.show()"
   ]
  },
  {
   "cell_type": "code",
   "execution_count": 2,
   "id": "4070fd81",
   "metadata": {},
   "outputs": [
    {
     "ename": "NameError",
     "evalue": "name 'df' is not defined",
     "output_type": "error",
     "traceback": [
      "\u001b[1;31m---------------------------------------------------------------------------\u001b[0m",
      "\u001b[1;31mNameError\u001b[0m                                 Traceback (most recent call last)",
      "\u001b[1;32m~\\AppData\\Local\\Temp\\ipykernel_40316\\165100251.py\u001b[0m in \u001b[0;36m<module>\u001b[1;34m\u001b[0m\n\u001b[0;32m      5\u001b[0m \u001b[1;31m# df = pd.read_csv('employee_data.csv')\u001b[0m\u001b[1;33m\u001b[0m\u001b[1;33m\u001b[0m\u001b[0m\n\u001b[0;32m      6\u001b[0m \u001b[1;31m# Check the first few rows to verify column names\u001b[0m\u001b[1;33m\u001b[0m\u001b[1;33m\u001b[0m\u001b[0m\n\u001b[1;32m----> 7\u001b[1;33m \u001b[0mprint\u001b[0m\u001b[1;33m(\u001b[0m\u001b[0mdf\u001b[0m\u001b[1;33m.\u001b[0m\u001b[0mhead\u001b[0m\u001b[1;33m(\u001b[0m\u001b[1;33m)\u001b[0m\u001b[1;33m)\u001b[0m\u001b[1;33m\u001b[0m\u001b[1;33m\u001b[0m\u001b[0m\n\u001b[0m\u001b[0;32m      8\u001b[0m \u001b[1;31m# Get unique positions and create a color map\u001b[0m\u001b[1;33m\u001b[0m\u001b[1;33m\u001b[0m\u001b[0m\n\u001b[0;32m      9\u001b[0m \u001b[0mpositions\u001b[0m \u001b[1;33m=\u001b[0m \u001b[0mdf\u001b[0m\u001b[1;33m[\u001b[0m\u001b[1;34m'Position'\u001b[0m\u001b[1;33m]\u001b[0m\u001b[1;33m.\u001b[0m\u001b[0munique\u001b[0m\u001b[1;33m(\u001b[0m\u001b[1;33m)\u001b[0m\u001b[1;33m\u001b[0m\u001b[1;33m\u001b[0m\u001b[0m\n",
      "\u001b[1;31mNameError\u001b[0m: name 'df' is not defined"
     ]
    }
   ],
   "source": [
    "import pandas as pd\n",
    "import matplotlib.pyplot as plt\n",
    "import numpy as np\n",
    "# Load the dataset (update the file path if needed)\n",
    "# df = pd.read_csv('employee_data.csv')\n",
    "# Check the first few rows to verify column names\n",
    "print(df.head())\n",
    "# Get unique positions and create a color map\n",
    "positions = df['Position'].unique()\n",
    "colors = plt.cm.rainbow(np.linspace(0, 1, len(positions)))\n",
    "# Optional: Set a scale factor for bubble sizes if productivity values are small.\n",
    "scale_factor = 100  # Adjust this value as needed\n",
    "plt.figure(figsize=(10, 6))\n",
    "# Plot each position group with its own color\n",
    "for pos, col in zip(positions, colors):\n",
    "    subset = df[df['Position'] == pos]\n",
    "    plt.scatter(subset['Salary'], subset['Age'],\n",
    "                s=subset['Productivity (%)'] * scale_factor,\n",
    "                alpha=0.6, edgecolors='w', label=pos, color=col)\n",
    "plt.xlabel('Salary')\n",
    "plt.ylabel('Age')\n",
    "plt.title('Employee Bubble Plot: Salary vs Age by Position (Bubble size = Productivity)')\n",
    "plt.legend(title='Position')\n",
    "plt.grid(True)\n",
    "plt.show()"
   ]
  },
  {
   "cell_type": "code",
   "execution_count": 3,
   "id": "a7f89ee8",
   "metadata": {},
   "outputs": [
    {
     "ename": "NameError",
     "evalue": "name 'df' is not defined",
     "output_type": "error",
     "traceback": [
      "\u001b[1;31m---------------------------------------------------------------------------\u001b[0m",
      "\u001b[1;31mNameError\u001b[0m                                 Traceback (most recent call last)",
      "\u001b[1;32m~\\AppData\\Local\\Temp\\ipykernel_40316\\2978721887.py\u001b[0m in \u001b[0;36m<module>\u001b[1;34m\u001b[0m\n\u001b[0;32m      4\u001b[0m \u001b[1;31m# df = pd.read_csv('employee_data.csv')\u001b[0m\u001b[1;33m\u001b[0m\u001b[1;33m\u001b[0m\u001b[0m\n\u001b[0;32m      5\u001b[0m \u001b[1;31m# Group by 'Position' and calculate mean values for Salary, Age, and Productivity\u001b[0m\u001b[1;33m\u001b[0m\u001b[1;33m\u001b[0m\u001b[0m\n\u001b[1;32m----> 6\u001b[1;33m agg_df = df.groupby('Position').agg({\n\u001b[0m\u001b[0;32m      7\u001b[0m     \u001b[1;34m'Salary'\u001b[0m\u001b[1;33m:\u001b[0m \u001b[1;34m'mean'\u001b[0m\u001b[1;33m,\u001b[0m\u001b[1;33m\u001b[0m\u001b[1;33m\u001b[0m\u001b[0m\n\u001b[0;32m      8\u001b[0m     \u001b[1;34m'Age'\u001b[0m\u001b[1;33m:\u001b[0m \u001b[1;34m'mean'\u001b[0m\u001b[1;33m,\u001b[0m\u001b[1;33m\u001b[0m\u001b[1;33m\u001b[0m\u001b[0m\n",
      "\u001b[1;31mNameError\u001b[0m: name 'df' is not defined"
     ]
    }
   ],
   "source": [
    "import pandas as pd\n",
    "import matplotlib.pyplot as plt\n",
    "# Load the dataset (update the file path if needed)\n",
    "# df = pd.read_csv('employee_data.csv')\n",
    "# Group by 'Position' and calculate mean values for Salary, Age, and Productivity\n",
    "agg_df = df.groupby('Position').agg({\n",
    "    'Salary': 'mean',\n",
    "    'Age': 'mean',\n",
    "    'Productivity (%)': 'mean'\n",
    "}).reset_index()\n",
    "# Optional: Set a scale factor for bubble sizes (adjust as needed)\n",
    "scale_factor = 100\n",
    "plt.figure(figsize=(10, 6))\n",
    "plt.scatter(agg_df['Salary'], agg_df['Age'],\n",
    "            s=agg_df['Productivity (%)'] * scale_factor,\n",
    "            alpha=0.6, edgecolors='w')\n",
    "# Add text labels for each position\n",
    "for i, row in agg_df.iterrows():\n",
    "    plt.text(row['Salary'], row['Age'], row['Position'],\n",
    "             ha='center', va='center', fontsize=9)\n",
    "# Calculate the axis limits with extra padding\n",
    "x_min, x_max = agg_df['Salary'].min(), agg_df['Salary'].max()\n",
    "y_min, y_max = agg_df['Age'].min(), agg_df['Age'].max()\n",
    "# Adding 15% padding to the ranges\n",
    "padding_x = (x_max - x_min) * 0.15\n",
    "padding_y = (y_max - y_min) * 0.15\n",
    "plt.xlim(x_min - padding_x, x_max + padding_x)\n",
    "plt.ylim(y_min - padding_y, y_max + padding_y)\n",
    "plt.xlabel('Average Salary')\n",
    "plt.ylabel('Average Age')\n",
    "plt.title('Bubble Plot: Average Salary vs. Average Age by Position\\n(Bubble size = Average Productivity)')\n",
    "plt.grid(True)\n",
    "plt.show()"
   ]
  },
  {
   "cell_type": "code",
   "execution_count": 4,
   "id": "5d7b1ccd",
   "metadata": {},
   "outputs": [
    {
     "ename": "NameError",
     "evalue": "name 'df' is not defined",
     "output_type": "error",
     "traceback": [
      "\u001b[1;31m---------------------------------------------------------------------------\u001b[0m",
      "\u001b[1;31mNameError\u001b[0m                                 Traceback (most recent call last)",
      "\u001b[1;32m~\\AppData\\Local\\Temp\\ipykernel_40316\\1874603447.py\u001b[0m in \u001b[0;36m<module>\u001b[1;34m\u001b[0m\n\u001b[0;32m      5\u001b[0m \u001b[1;31m# df = pd.read_csv('employee_data.csv')\u001b[0m\u001b[1;33m\u001b[0m\u001b[1;33m\u001b[0m\u001b[0m\n\u001b[0;32m      6\u001b[0m \u001b[1;31m# Group by 'Position' and calculate mean values for Age, Productivity, and Salary\u001b[0m\u001b[1;33m\u001b[0m\u001b[1;33m\u001b[0m\u001b[0m\n\u001b[1;32m----> 7\u001b[1;33m agg_df = df.groupby('Position').agg({\n\u001b[0m\u001b[0;32m      8\u001b[0m     \u001b[1;34m'Age'\u001b[0m\u001b[1;33m:\u001b[0m \u001b[1;34m'mean'\u001b[0m\u001b[1;33m,\u001b[0m\u001b[1;33m\u001b[0m\u001b[1;33m\u001b[0m\u001b[0m\n\u001b[0;32m      9\u001b[0m     \u001b[1;34m'Productivity (%)'\u001b[0m\u001b[1;33m:\u001b[0m \u001b[1;34m'mean'\u001b[0m\u001b[1;33m,\u001b[0m\u001b[1;33m\u001b[0m\u001b[1;33m\u001b[0m\u001b[0m\n",
      "\u001b[1;31mNameError\u001b[0m: name 'df' is not defined"
     ]
    }
   ],
   "source": [
    "import pandas as pd\n",
    "import matplotlib.pyplot as plt\n",
    "import numpy as np\n",
    "# Load the dataset (update the file path if needed)\n",
    "# df = pd.read_csv('employee_data.csv')\n",
    "# Group by 'Position' and calculate mean values for Age, Productivity, and Salary\n",
    "agg_df = df.groupby('Position').agg({\n",
    "    'Age': 'mean',\n",
    "    'Productivity (%)': 'mean',\n",
    "    'Salary': 'mean'\n",
    "}).reset_index()\n",
    "# Optional: Set a scale factor for bubble sizes (adjust as needed)\n",
    "scale_factor = 0.1  # Adjust based on the magnitude of Salary values\n",
    "plt.figure(figsize=(10, 6))\n",
    "plt.scatter(agg_df['Age'], agg_df['Productivity (%)'],\n",
    "            s=agg_df['Salary'] * scale_factor,\n",
    "            alpha=0.6, edgecolors='w')\n",
    "# Add text labels for each position\n",
    "for i, row in agg_df.iterrows():\n",
    "    plt.text(row['Age'], row['Productivity (%)'], row['Position'],\n",
    "             ha='center', va='center', fontsize=9)\n",
    "# Calculate axis limits with extra padding to ensure bubbles are not cut off\n",
    "x_min, x_max = agg_df['Age'].min(), agg_df['Age'].max()\n",
    "y_min, y_max = agg_df['Productivity (%)'].min(), agg_df['Productivity (%)'].max()\n",
    "padding_x = (x_max - x_min) * 0.15\n",
    "padding_y = (y_max - y_min) * 0.15\n",
    "plt.xlim(x_min - padding_x, x_max + padding_x)\n",
    "plt.ylim(y_min - padding_y, y_max + padding_y)\n",
    "plt.xlabel('Average Age')\n",
    "plt.ylabel('Average Productivity')\n",
    "plt.title('Bubble Plot: Avg Productivity vs. Avg Age by Position\\n(Bubble size = Avg Salary)')\n",
    "plt.grid(True)\n",
    "# Create a custom legend for bubble sizes representing average salary\n",
    "# Here we pick three representative salary values: min, median, and max.\n",
    "salary_min = agg_df['Salary'].min()\n",
    "salary_median = agg_df['Salary'].median()\n",
    "salary_max = agg_df['Salary'].max()\n",
    "legend_salaries = [salary_min, salary_median, salary_max]\n",
    "handles = []\n",
    "for s in legend_salaries:\n",
    "    handles.append(plt.scatter([], [], s=s * scale_factor, color='gray',\n",
    "                                alpha=0.6, edgecolors='w', label=f'Salary: {s:.0f}'))\n",
    "plt.legend(handles=handles, scatterpoints=1, title=\"Average Salary\",\n",
    "           loc=\"upper right\", bbox_to_anchor=(1.15, 1))\n",
    "plt.show()"
   ]
  },
  {
   "cell_type": "code",
   "execution_count": null,
   "id": "b9d515ed",
   "metadata": {},
   "outputs": [],
   "source": []
  }
 ],
 "metadata": {
  "kernelspec": {
   "display_name": "Python 3 (ipykernel)",
   "language": "python",
   "name": "python3"
  },
  "language_info": {
   "codemirror_mode": {
    "name": "ipython",
    "version": 3
   },
   "file_extension": ".py",
   "mimetype": "text/x-python",
   "name": "python",
   "nbconvert_exporter": "python",
   "pygments_lexer": "ipython3",
   "version": "3.9.13"
  }
 },
 "nbformat": 4,
 "nbformat_minor": 5
}
