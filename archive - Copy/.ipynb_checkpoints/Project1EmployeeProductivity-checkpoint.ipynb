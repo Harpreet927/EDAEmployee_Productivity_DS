{
 "cells": [
  {
   "cell_type": "code",
   "execution_count": 1,
   "id": "9e243e94",
   "metadata": {
    "scrolled": true
   },
   "outputs": [],
   "source": [
    "# Load the 'Employee Productivity and Satisfaction HR Data' dataset\n",
    "import pandas as pd\n",
    "Employee = pd.read_csv('hr_dashboard_data.csv')"
   ]
  },
  {
   "cell_type": "code",
   "execution_count": null,
   "id": "0517b887",
   "metadata": {},
   "outputs": [],
   "source": []
  }
 ],
 "metadata": {
  "kernelspec": {
   "display_name": "Python 3 (ipykernel)",
   "language": "python",
   "name": "python3"
  },
  "language_info": {
   "codemirror_mode": {
    "name": "ipython",
    "version": 3
   },
   "file_extension": ".py",
   "mimetype": "text/x-python",
   "name": "python",
   "nbconvert_exporter": "python",
   "pygments_lexer": "ipython3",
   "version": "3.9.13"
  }
 },
 "nbformat": 4,
 "nbformat_minor": 5
}
