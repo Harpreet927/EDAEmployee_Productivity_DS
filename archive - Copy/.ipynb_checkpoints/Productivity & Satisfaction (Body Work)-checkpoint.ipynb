{
 "cells": [
  {
   "cell_type": "code",
   "execution_count": 2,
   "id": "ed928161",
   "metadata": {},
   "outputs": [
    {
     "data": {
      "text/html": [
       "<div>\n",
       "<style scoped>\n",
       "    .dataframe tbody tr th:only-of-type {\n",
       "        vertical-align: middle;\n",
       "    }\n",
       "\n",
       "    .dataframe tbody tr th {\n",
       "        vertical-align: top;\n",
       "    }\n",
       "\n",
       "    .dataframe thead th {\n",
       "        text-align: right;\n",
       "    }\n",
       "</style>\n",
       "<table border=\"1\" class=\"dataframe\">\n",
       "  <thead>\n",
       "    <tr style=\"text-align: right;\">\n",
       "      <th></th>\n",
       "      <th>Name</th>\n",
       "      <th>Age</th>\n",
       "      <th>Gender</th>\n",
       "      <th>Projects Completed</th>\n",
       "      <th>Productivity (%)</th>\n",
       "      <th>Satisfaction Rate (%)</th>\n",
       "      <th>Feedback Score</th>\n",
       "      <th>Department</th>\n",
       "      <th>Position</th>\n",
       "      <th>Joining Date</th>\n",
       "      <th>Salary</th>\n",
       "    </tr>\n",
       "  </thead>\n",
       "  <tbody>\n",
       "    <tr>\n",
       "      <th>0</th>\n",
       "      <td>Douglas Lindsey</td>\n",
       "      <td>25</td>\n",
       "      <td>Male</td>\n",
       "      <td>11</td>\n",
       "      <td>57</td>\n",
       "      <td>25</td>\n",
       "      <td>4.7</td>\n",
       "      <td>Marketing</td>\n",
       "      <td>Analyst</td>\n",
       "      <td>Jan-20</td>\n",
       "      <td>63596</td>\n",
       "    </tr>\n",
       "    <tr>\n",
       "      <th>1</th>\n",
       "      <td>Anthony Roberson</td>\n",
       "      <td>59</td>\n",
       "      <td>Female</td>\n",
       "      <td>19</td>\n",
       "      <td>55</td>\n",
       "      <td>76</td>\n",
       "      <td>2.8</td>\n",
       "      <td>IT</td>\n",
       "      <td>Manager</td>\n",
       "      <td>Jan-99</td>\n",
       "      <td>112540</td>\n",
       "    </tr>\n",
       "    <tr>\n",
       "      <th>2</th>\n",
       "      <td>Thomas Miller</td>\n",
       "      <td>30</td>\n",
       "      <td>Male</td>\n",
       "      <td>8</td>\n",
       "      <td>87</td>\n",
       "      <td>10</td>\n",
       "      <td>2.4</td>\n",
       "      <td>IT</td>\n",
       "      <td>Analyst</td>\n",
       "      <td>Jan-17</td>\n",
       "      <td>66292</td>\n",
       "    </tr>\n",
       "    <tr>\n",
       "      <th>3</th>\n",
       "      <td>Joshua Lewis</td>\n",
       "      <td>26</td>\n",
       "      <td>Female</td>\n",
       "      <td>1</td>\n",
       "      <td>53</td>\n",
       "      <td>4</td>\n",
       "      <td>1.4</td>\n",
       "      <td>Marketing</td>\n",
       "      <td>Intern</td>\n",
       "      <td>Jan-22</td>\n",
       "      <td>38303</td>\n",
       "    </tr>\n",
       "    <tr>\n",
       "      <th>4</th>\n",
       "      <td>Stephanie Bailey</td>\n",
       "      <td>43</td>\n",
       "      <td>Male</td>\n",
       "      <td>14</td>\n",
       "      <td>3</td>\n",
       "      <td>9</td>\n",
       "      <td>4.5</td>\n",
       "      <td>IT</td>\n",
       "      <td>Team Lead</td>\n",
       "      <td>Jan-05</td>\n",
       "      <td>101133</td>\n",
       "    </tr>\n",
       "    <tr>\n",
       "      <th>...</th>\n",
       "      <td>...</td>\n",
       "      <td>...</td>\n",
       "      <td>...</td>\n",
       "      <td>...</td>\n",
       "      <td>...</td>\n",
       "      <td>...</td>\n",
       "      <td>...</td>\n",
       "      <td>...</td>\n",
       "      <td>...</td>\n",
       "      <td>...</td>\n",
       "      <td>...</td>\n",
       "    </tr>\n",
       "    <tr>\n",
       "      <th>195</th>\n",
       "      <td>Stephanie Fisher</td>\n",
       "      <td>29</td>\n",
       "      <td>Female</td>\n",
       "      <td>9</td>\n",
       "      <td>32</td>\n",
       "      <td>87</td>\n",
       "      <td>3.5</td>\n",
       "      <td>HR</td>\n",
       "      <td>Junior Developer</td>\n",
       "      <td>Jan-19</td>\n",
       "      <td>50051</td>\n",
       "    </tr>\n",
       "    <tr>\n",
       "      <th>196</th>\n",
       "      <td>Jeremy Miller</td>\n",
       "      <td>26</td>\n",
       "      <td>Male</td>\n",
       "      <td>7</td>\n",
       "      <td>45</td>\n",
       "      <td>28</td>\n",
       "      <td>2.8</td>\n",
       "      <td>IT</td>\n",
       "      <td>Junior Developer</td>\n",
       "      <td>Jan-21</td>\n",
       "      <td>46612</td>\n",
       "    </tr>\n",
       "    <tr>\n",
       "      <th>197</th>\n",
       "      <td>Daniel Pierce</td>\n",
       "      <td>22</td>\n",
       "      <td>Male</td>\n",
       "      <td>3</td>\n",
       "      <td>36</td>\n",
       "      <td>77</td>\n",
       "      <td>1.6</td>\n",
       "      <td>Finance</td>\n",
       "      <td>Intern</td>\n",
       "      <td>Jan-21</td>\n",
       "      <td>32992</td>\n",
       "    </tr>\n",
       "    <tr>\n",
       "      <th>198</th>\n",
       "      <td>Michael Hernandez</td>\n",
       "      <td>36</td>\n",
       "      <td>Female</td>\n",
       "      <td>23</td>\n",
       "      <td>96</td>\n",
       "      <td>50</td>\n",
       "      <td>3.4</td>\n",
       "      <td>Marketing</td>\n",
       "      <td>Manager</td>\n",
       "      <td>Jan-05</td>\n",
       "      <td>104216</td>\n",
       "    </tr>\n",
       "    <tr>\n",
       "      <th>199</th>\n",
       "      <td>Victor Gutierrez</td>\n",
       "      <td>43</td>\n",
       "      <td>Male</td>\n",
       "      <td>10</td>\n",
       "      <td>86</td>\n",
       "      <td>71</td>\n",
       "      <td>2.0</td>\n",
       "      <td>IT</td>\n",
       "      <td>Team Lead</td>\n",
       "      <td>Jan-14</td>\n",
       "      <td>104341</td>\n",
       "    </tr>\n",
       "  </tbody>\n",
       "</table>\n",
       "<p>200 rows × 11 columns</p>\n",
       "</div>"
      ],
      "text/plain": [
       "                  Name  Age  Gender  Projects Completed  Productivity (%)  \\\n",
       "0      Douglas Lindsey   25    Male                  11                57   \n",
       "1     Anthony Roberson   59  Female                  19                55   \n",
       "2        Thomas Miller   30    Male                   8                87   \n",
       "3         Joshua Lewis   26  Female                   1                53   \n",
       "4     Stephanie Bailey   43    Male                  14                 3   \n",
       "..                 ...  ...     ...                 ...               ...   \n",
       "195   Stephanie Fisher   29  Female                   9                32   \n",
       "196      Jeremy Miller   26    Male                   7                45   \n",
       "197      Daniel Pierce   22    Male                   3                36   \n",
       "198  Michael Hernandez   36  Female                  23                96   \n",
       "199   Victor Gutierrez   43    Male                  10                86   \n",
       "\n",
       "     Satisfaction Rate (%)  Feedback Score Department          Position  \\\n",
       "0                       25             4.7  Marketing           Analyst   \n",
       "1                       76             2.8         IT           Manager   \n",
       "2                       10             2.4         IT           Analyst   \n",
       "3                        4             1.4  Marketing            Intern   \n",
       "4                        9             4.5         IT         Team Lead   \n",
       "..                     ...             ...        ...               ...   \n",
       "195                     87             3.5         HR  Junior Developer   \n",
       "196                     28             2.8         IT  Junior Developer   \n",
       "197                     77             1.6    Finance            Intern   \n",
       "198                     50             3.4  Marketing           Manager   \n",
       "199                     71             2.0         IT         Team Lead   \n",
       "\n",
       "    Joining Date  Salary  \n",
       "0         Jan-20   63596  \n",
       "1         Jan-99  112540  \n",
       "2         Jan-17   66292  \n",
       "3         Jan-22   38303  \n",
       "4         Jan-05  101133  \n",
       "..           ...     ...  \n",
       "195       Jan-19   50051  \n",
       "196       Jan-21   46612  \n",
       "197       Jan-21   32992  \n",
       "198       Jan-05  104216  \n",
       "199       Jan-14  104341  \n",
       "\n",
       "[200 rows x 11 columns]"
      ]
     },
     "execution_count": 2,
     "metadata": {},
     "output_type": "execute_result"
    }
   ],
   "source": [
    "import pandas as pd\n",
    "df = pd.read_csv('hr_dashboard_data.csv')\n",
    "df"
   ]
  },
  {
   "cell_type": "code",
   "execution_count": null,
   "id": "a532fc23",
   "metadata": {},
   "outputs": [],
   "source": []
  },
  {
   "cell_type": "markdown",
   "id": "7e3902d0",
   "metadata": {},
   "source": [
    "## 1. Distribution of Employee Satisfaction Rates"
   ]
  },
  {
   "cell_type": "code",
   "execution_count": 3,
   "id": "9a4f8469",
   "metadata": {},
   "outputs": [
    {
     "data": {
      "image/png": "[encoded data removed]",
      "text/plain": [
       "<Figure size 432x288 with 1 Axes>"
      ]
     },
     "metadata": {
      "needs_background": "light"
     },
     "output_type": "display_data"
    }
   ],
   "source": [
    "import matplotlib.pyplot as plt\n",
    "\n",
    "# Histogram of Satisfaction Rates\n",
    "plt.figure(figsize=(6,4))\n",
    "plt.hist(df['Satisfaction Rate (%)'], bins=10, color='skyblue', edgecolor='black')\n",
    "plt.title('Distribution of Satisfaction Rates')\n",
    "plt.xlabel('Satisfaction Rate (%)')\n",
    "plt.ylabel('Number of Employees')\n",
    "plt.grid(axis='y', linestyle='--', alpha=0.7)\n",
    "plt.show()"
   ]
  },
  {
   "cell_type": "code",
   "execution_count": 3,
   "id": "578866f9",
   "metadata": {},
   "outputs": [
    {
     "data": {
      "text/html": [
       "<div>\n",
       "<style scoped>\n",
       "    .dataframe tbody tr th:only-of-type {\n",
       "        vertical-align: middle;\n",
       "    }\n",
       "\n",
       "    .dataframe tbody tr th {\n",
       "        vertical-align: top;\n",
       "    }\n",
       "\n",
       "    .dataframe thead th {\n",
       "        text-align: right;\n",
       "    }\n",
       "</style>\n",
       "<table border=\"1\" class=\"dataframe\">\n",
       "  <thead>\n",
       "    <tr style=\"text-align: right;\">\n",
       "      <th></th>\n",
       "      <th>Satisfaction Rate (%)</th>\n",
       "    </tr>\n",
       "  </thead>\n",
       "  <tbody>\n",
       "    <tr>\n",
       "      <th>count</th>\n",
       "      <td>200.000000</td>\n",
       "    </tr>\n",
       "    <tr>\n",
       "      <th>mean</th>\n",
       "      <td>49.935000</td>\n",
       "    </tr>\n",
       "    <tr>\n",
       "      <th>std</th>\n",
       "      <td>28.934353</td>\n",
       "    </tr>\n",
       "    <tr>\n",
       "      <th>min</th>\n",
       "      <td>0.000000</td>\n",
       "    </tr>\n",
       "    <tr>\n",
       "      <th>25%</th>\n",
       "      <td>25.750000</td>\n",
       "    </tr>\n",
       "    <tr>\n",
       "      <th>50%</th>\n",
       "      <td>50.500000</td>\n",
       "    </tr>\n",
       "    <tr>\n",
       "      <th>75%</th>\n",
       "      <td>75.250000</td>\n",
       "    </tr>\n",
       "    <tr>\n",
       "      <th>max</th>\n",
       "      <td>100.000000</td>\n",
       "    </tr>\n",
       "  </tbody>\n",
       "</table>\n",
       "</div>"
      ],
      "text/plain": [
       "       Satisfaction Rate (%)\n",
       "count             200.000000\n",
       "mean               49.935000\n",
       "std                28.934353\n",
       "min                 0.000000\n",
       "25%                25.750000\n",
       "50%                50.500000\n",
       "75%                75.250000\n",
       "max               100.000000"
      ]
     },
     "execution_count": 3,
     "metadata": {},
     "output_type": "execute_result"
    }
   ],
   "source": [
    "df[['Satisfaction Rate (%)']].describe()"
   ]
  },
  {
   "cell_type": "markdown",
   "id": "77907258",
   "metadata": {},
   "source": [
    "Interpretation: The satisfaction scores are widely distributed across the 0–100% range. The histogram shows a relatively uniform spread with slight peaks around the higher end (80-90%) and a modest number of very low satisfaction values. This indicates that employee satisfaction varies greatly, with some employees extremely satisfied and others very dissatisfied. The median satisfaction is about 50%, and the dataset even includes a few employees at 0% satisfaction (completely dissatisfied) and some at 100% satisfaction (fully satisfied). This broad distribution suggests a diverse set of experiences and sentiments among the employees."
   ]
  },
  {
   "cell_type": "code",
   "execution_count": null,
   "id": "23f05e6b",
   "metadata": {},
   "outputs": [],
   "source": []
  },
  {
   "cell_type": "markdown",
   "id": "ebb391cc",
   "metadata": {},
   "source": [
    "## 2. Distribution of Employee Productivity Scores"
   ]
  },
  {
   "cell_type": "code",
   "execution_count": 4,
   "id": "5cb6a9c3",
   "metadata": {},
   "outputs": [
    {
     "data": {
      "image/png": "[encoded data removed]",
      "text/plain": [
       "<Figure size 432x288 with 1 Axes>"
      ]
     },
     "metadata": {
      "needs_background": "light"
     },
     "output_type": "display_data"
    }
   ],
   "source": [
    "# Histogram of Productivity Scores\n",
    "plt.figure(figsize=(6,4))\n",
    "plt.hist(df['Productivity (%)'], bins=10, color='lightgreen', edgecolor='black')\n",
    "plt.title('Distribution of Productivity Scores')\n",
    "plt.xlabel('Productivity (%)')\n",
    "plt.ylabel('Number of Employees')\n",
    "plt.grid(axis='y', linestyle='--', alpha=0.7)\n",
    "plt.show()"
   ]
  },
  {
   "cell_type": "code",
   "execution_count": 5,
   "id": "7dbc71b0",
   "metadata": {},
   "outputs": [
    {
     "data": {
      "text/html": [
       "<div>\n",
       "<style scoped>\n",
       "    .dataframe tbody tr th:only-of-type {\n",
       "        vertical-align: middle;\n",
       "    }\n",
       "\n",
       "    .dataframe tbody tr th {\n",
       "        vertical-align: top;\n",
       "    }\n",
       "\n",
       "    .dataframe thead th {\n",
       "        text-align: right;\n",
       "    }\n",
       "</style>\n",
       "<table border=\"1\" class=\"dataframe\">\n",
       "  <thead>\n",
       "    <tr style=\"text-align: right;\">\n",
       "      <th></th>\n",
       "      <th>Productivity (%)</th>\n",
       "    </tr>\n",
       "  </thead>\n",
       "  <tbody>\n",
       "    <tr>\n",
       "      <th>count</th>\n",
       "      <td>200.000000</td>\n",
       "    </tr>\n",
       "    <tr>\n",
       "      <th>mean</th>\n",
       "      <td>46.755000</td>\n",
       "    </tr>\n",
       "    <tr>\n",
       "      <th>std</th>\n",
       "      <td>28.530068</td>\n",
       "    </tr>\n",
       "    <tr>\n",
       "      <th>min</th>\n",
       "      <td>0.000000</td>\n",
       "    </tr>\n",
       "    <tr>\n",
       "      <th>25%</th>\n",
       "      <td>23.000000</td>\n",
       "    </tr>\n",
       "    <tr>\n",
       "      <th>50%</th>\n",
       "      <td>45.000000</td>\n",
       "    </tr>\n",
       "    <tr>\n",
       "      <th>75%</th>\n",
       "      <td>70.000000</td>\n",
       "    </tr>\n",
       "    <tr>\n",
       "      <th>max</th>\n",
       "      <td>98.000000</td>\n",
       "    </tr>\n",
       "  </tbody>\n",
       "</table>\n",
       "</div>"
      ],
      "text/plain": [
       "       Productivity (%)\n",
       "count        200.000000\n",
       "mean          46.755000\n",
       "std           28.530068\n",
       "min            0.000000\n",
       "25%           23.000000\n",
       "50%           45.000000\n",
       "75%           70.000000\n",
       "max           98.000000"
      ]
     },
     "execution_count": 5,
     "metadata": {},
     "output_type": "execute_result"
    }
   ],
   "source": [
    "df[['Productivity (%)']].describe()"
   ]
  },
  {
   "cell_type": "markdown",
   "id": "62f06a20",
   "metadata": {},
   "source": [
    "Interpretation: The productivity histogram reveals that employee productivity is also widely spread. Many employees cluster in the mid-range (around 40-60%), but there are notable groups at the extremes: a number of employees have very low productivity (including a few at 0%), and a decent group achieve high productivity (80-100%). The spread suggests no single dominant productivity level – performance varies significantly across the workforce. The average productivity is about 47%, and similar to satisfaction, a handful of employees score at the absolute extremes (0% and near 100%). This variability might hint at differences in roles, capabilities, or motivation across employees."
   ]
  },
  {
   "cell_type": "code",
   "execution_count": null,
   "id": "7b49927a",
   "metadata": {},
   "outputs": [],
   "source": []
  },
  {
   "cell_type": "markdown",
   "id": "46259433",
   "metadata": {},
   "source": [
    "## 3. Relationship Between Satisfaction and Productivity"
   ]
  },
  {
   "cell_type": "code",
   "execution_count": 6,
   "id": "e339e217",
   "metadata": {},
   "outputs": [
    {
     "data": {
      "image/png": "[encoded data removed]",
      "text/plain": [
       "<Figure size 432x432 with 1 Axes>"
      ]
     },
     "metadata": {
      "needs_background": "light"
     },
     "output_type": "display_data"
    }
   ],
   "source": [
    "# Scatter Plot: Satisfaction vs Productivity\n",
    "plt.figure(figsize=(6,6))\n",
    "plt.scatter(df['Satisfaction Rate (%)'], df['Productivity (%)'], color='orange', marker='x')\n",
    "plt.title('Employee Productivity vs Satisfaction')\n",
    "plt.xlabel('Satisfaction Rate (%)')\n",
    "plt.ylabel('Productivity (%)')\n",
    "plt.grid(True, linestyle=':', alpha=0.5)\n",
    "plt.show()"
   ]
  },
  {
   "cell_type": "markdown",
   "id": "d855a4d4",
   "metadata": {},
   "source": [
    "Interpretation: The scatter plot shows no strong correlation between an employee’s satisfaction and their productivity. The points are widely scattered without a clear trend or slope. Employees with high satisfaction can be anywhere from low to high productivity, and highly productive employees span the full range of satisfaction. This suggests that job satisfaction and job performance are not directly linked in this dataset, corroborating findings in other studies that found “no relation between job satisfaction and job performance”. In other words, a content employee isn’t necessarily more productive, and a top performer isn’t always happy – implying other factors influence each metric independently."
   ]
  },
  {
   "cell_type": "code",
   "execution_count": null,
   "id": "b1085d99",
   "metadata": {},
   "outputs": [],
   "source": []
  },
  {
   "cell_type": "markdown",
   "id": "b1ea9b83",
   "metadata": {},
   "source": [
    "## 4. Satisfaction and Productivity by Gender"
   ]
  },
  {
   "cell_type": "code",
   "execution_count": 4,
   "id": "06af3e3f",
   "metadata": {},
   "outputs": [
    {
     "data": {
      "image/png": "[encoded data removed]",
      "text/plain": [
       "<Figure size 576x288 with 2 Axes>"
      ]
     },
     "metadata": {
      "needs_background": "light"
     },
     "output_type": "display_data"
    }
   ],
   "source": [
    "import seaborn as sns\n",
    "\n",
    "# Boxplots: Satisfaction and Productivity by Gender\n",
    "fig, axes = plt.subplots(1, 2, figsize=(8,4))\n",
    "sns.boxplot(x='Gender', y='Satisfaction Rate (%)', data=df, palette='autumn', ax=axes[0])\n",
    "axes[0].set_title('Satisfaction by Gender')\n",
    "axes[0].set_ylabel('Satisfaction Rate (%)')\n",
    "sns.boxplot(x='Gender', y='Productivity (%)', data=df, palette='autumn', ax=axes[1])\n",
    "axes[1].set_title('Productivity by Gender')\n",
    "axes[1].set_ylabel('Productivity (%)')\n",
    "plt.tight_layout()\n",
    "plt.show()"
   ]
  },
  {
   "cell_type": "code",
   "execution_count": 8,
   "id": "e5380f5f",
   "metadata": {},
   "outputs": [
    {
     "data": {
      "text/html": [
       "<div>\n",
       "<style scoped>\n",
       "    .dataframe tbody tr th:only-of-type {\n",
       "        vertical-align: middle;\n",
       "    }\n",
       "\n",
       "    .dataframe tbody tr th {\n",
       "        vertical-align: top;\n",
       "    }\n",
       "\n",
       "    .dataframe thead tr th {\n",
       "        text-align: left;\n",
       "    }\n",
       "\n",
       "    .dataframe thead tr:last-of-type th {\n",
       "        text-align: right;\n",
       "    }\n",
       "</style>\n",
       "<table border=\"1\" class=\"dataframe\">\n",
       "  <thead>\n",
       "    <tr>\n",
       "      <th></th>\n",
       "      <th colspan=\"8\" halign=\"left\">Satisfaction Rate (%)</th>\n",
       "    </tr>\n",
       "    <tr>\n",
       "      <th></th>\n",
       "      <th>count</th>\n",
       "      <th>mean</th>\n",
       "      <th>std</th>\n",
       "      <th>min</th>\n",
       "      <th>25%</th>\n",
       "      <th>50%</th>\n",
       "      <th>75%</th>\n",
       "      <th>max</th>\n",
       "    </tr>\n",
       "    <tr>\n",
       "      <th>Gender</th>\n",
       "      <th></th>\n",
       "      <th></th>\n",
       "      <th></th>\n",
       "      <th></th>\n",
       "      <th></th>\n",
       "      <th></th>\n",
       "      <th></th>\n",
       "      <th></th>\n",
       "    </tr>\n",
       "  </thead>\n",
       "  <tbody>\n",
       "    <tr>\n",
       "      <th>Female</th>\n",
       "      <td>100.0</td>\n",
       "      <td>51.25</td>\n",
       "      <td>28.495747</td>\n",
       "      <td>0.0</td>\n",
       "      <td>27.75</td>\n",
       "      <td>50.5</td>\n",
       "      <td>80.00</td>\n",
       "      <td>100.0</td>\n",
       "    </tr>\n",
       "    <tr>\n",
       "      <th>Male</th>\n",
       "      <td>100.0</td>\n",
       "      <td>48.62</td>\n",
       "      <td>29.450791</td>\n",
       "      <td>0.0</td>\n",
       "      <td>23.75</td>\n",
       "      <td>50.5</td>\n",
       "      <td>74.25</td>\n",
       "      <td>100.0</td>\n",
       "    </tr>\n",
       "  </tbody>\n",
       "</table>\n",
       "</div>"
      ],
      "text/plain": [
       "       Satisfaction Rate (%)                                                  \n",
       "                       count   mean        std  min    25%   50%    75%    max\n",
       "Gender                                                                        \n",
       "Female                 100.0  51.25  28.495747  0.0  27.75  50.5  80.00  100.0\n",
       "Male                   100.0  48.62  29.450791  0.0  23.75  50.5  74.25  100.0"
      ]
     },
     "execution_count": 8,
     "metadata": {},
     "output_type": "execute_result"
    }
   ],
   "source": [
    "df.groupby('Gender')[['Satisfaction Rate (%)']].describe()"
   ]
  },
  {
   "cell_type": "code",
   "execution_count": 9,
   "id": "863353a3",
   "metadata": {},
   "outputs": [
    {
     "data": {
      "text/html": [
       "<div>\n",
       "<style scoped>\n",
       "    .dataframe tbody tr th:only-of-type {\n",
       "        vertical-align: middle;\n",
       "    }\n",
       "\n",
       "    .dataframe tbody tr th {\n",
       "        vertical-align: top;\n",
       "    }\n",
       "\n",
       "    .dataframe thead tr th {\n",
       "        text-align: left;\n",
       "    }\n",
       "\n",
       "    .dataframe thead tr:last-of-type th {\n",
       "        text-align: right;\n",
       "    }\n",
       "</style>\n",
       "<table border=\"1\" class=\"dataframe\">\n",
       "  <thead>\n",
       "    <tr>\n",
       "      <th></th>\n",
       "      <th colspan=\"8\" halign=\"left\">Productivity (%)</th>\n",
       "    </tr>\n",
       "    <tr>\n",
       "      <th></th>\n",
       "      <th>count</th>\n",
       "      <th>mean</th>\n",
       "      <th>std</th>\n",
       "      <th>min</th>\n",
       "      <th>25%</th>\n",
       "      <th>50%</th>\n",
       "      <th>75%</th>\n",
       "      <th>max</th>\n",
       "    </tr>\n",
       "    <tr>\n",
       "      <th>Gender</th>\n",
       "      <th></th>\n",
       "      <th></th>\n",
       "      <th></th>\n",
       "      <th></th>\n",
       "      <th></th>\n",
       "      <th></th>\n",
       "      <th></th>\n",
       "      <th></th>\n",
       "    </tr>\n",
       "  </thead>\n",
       "  <tbody>\n",
       "    <tr>\n",
       "      <th>Female</th>\n",
       "      <td>100.0</td>\n",
       "      <td>42.97</td>\n",
       "      <td>28.235466</td>\n",
       "      <td>0.0</td>\n",
       "      <td>17.5</td>\n",
       "      <td>41.0</td>\n",
       "      <td>61.75</td>\n",
       "      <td>96.0</td>\n",
       "    </tr>\n",
       "    <tr>\n",
       "      <th>Male</th>\n",
       "      <td>100.0</td>\n",
       "      <td>50.54</td>\n",
       "      <td>28.459938</td>\n",
       "      <td>0.0</td>\n",
       "      <td>27.5</td>\n",
       "      <td>47.0</td>\n",
       "      <td>75.50</td>\n",
       "      <td>98.0</td>\n",
       "    </tr>\n",
       "  </tbody>\n",
       "</table>\n",
       "</div>"
      ],
      "text/plain": [
       "       Productivity (%)                                                \n",
       "                  count   mean        std  min   25%   50%    75%   max\n",
       "Gender                                                                 \n",
       "Female            100.0  42.97  28.235466  0.0  17.5  41.0  61.75  96.0\n",
       "Male              100.0  50.54  28.459938  0.0  27.5  47.0  75.50  98.0"
      ]
     },
     "execution_count": 9,
     "metadata": {},
     "output_type": "execute_result"
    }
   ],
   "source": [
    "df.groupby('Gender')[['Productivity (%)']].describe()"
   ]
  },
  {
   "cell_type": "markdown",
   "id": "25b367bf",
   "metadata": {},
   "source": [
    "Interpretation: The box plots show that males and females have fairly similar distributions of satisfaction and productivity. The average productivity of male employees (50.5%) is above that of female employees (43.0%), while females have a slightly higher average satisfaction (51.3% vs 48.6% for males). However, the overlap in the interquartile ranges is substantial for both metrics, indicating that gender is not a strong differentiator for satisfaction or performance in this company. Both genders exhibit a wide range of outcomes, and any differences in central tendency are relatively small. This suggests that factors other than gender are more influential in driving satisfaction and productivity."
   ]
  },
  {
   "cell_type": "code",
   "execution_count": null,
   "id": "28eda106",
   "metadata": {},
   "outputs": [],
   "source": []
  },
  {
   "cell_type": "markdown",
   "id": "7ca06459",
   "metadata": {},
   "source": [
    "## 5. Productivity by Department"
   ]
  },
  {
   "cell_type": "code",
   "execution_count": 10,
   "id": "cbb86b28",
   "metadata": {},
   "outputs": [
    {
     "data": {
      "image/png": "[encoded data removed]",
      "text/plain": [
       "<Figure size 432x288 with 1 Axes>"
      ]
     },
     "metadata": {
      "needs_background": "light"
     },
     "output_type": "display_data"
    }
   ],
   "source": [
    "# Bar Chart: Average Productivity by Department\n",
    "dept_prod = df.groupby('Department')['Productivity (%)'].agg(['mean','std'])\n",
    "plt.figure(figsize=(6,4))\n",
    "sns.barplot(x=dept_prod.index, y=dept_prod['mean'], yerr=dept_prod['std'], palette='Pastel1')\n",
    "plt.title('Average Productivity by Department')\n",
    "plt.xlabel('Department')\n",
    "plt.ylabel('Productivity (%)')\n",
    "plt.xticks(rotation=30)\n",
    "plt.show()"
   ]
  },
  {
   "cell_type": "code",
   "execution_count": 11,
   "id": "91d41260",
   "metadata": {},
   "outputs": [
    {
     "data": {
      "text/html": [
       "<div>\n",
       "<style scoped>\n",
       "    .dataframe tbody tr th:only-of-type {\n",
       "        vertical-align: middle;\n",
       "    }\n",
       "\n",
       "    .dataframe tbody tr th {\n",
       "        vertical-align: top;\n",
       "    }\n",
       "\n",
       "    .dataframe thead th {\n",
       "        text-align: right;\n",
       "    }\n",
       "</style>\n",
       "<table border=\"1\" class=\"dataframe\">\n",
       "  <thead>\n",
       "    <tr style=\"text-align: right;\">\n",
       "      <th></th>\n",
       "      <th>count</th>\n",
       "      <th>mean</th>\n",
       "      <th>std</th>\n",
       "      <th>min</th>\n",
       "      <th>25%</th>\n",
       "      <th>50%</th>\n",
       "      <th>75%</th>\n",
       "      <th>max</th>\n",
       "    </tr>\n",
       "    <tr>\n",
       "      <th>Department</th>\n",
       "      <th></th>\n",
       "      <th></th>\n",
       "      <th></th>\n",
       "      <th></th>\n",
       "      <th></th>\n",
       "      <th></th>\n",
       "      <th></th>\n",
       "      <th></th>\n",
       "    </tr>\n",
       "  </thead>\n",
       "  <tbody>\n",
       "    <tr>\n",
       "      <th>Finance</th>\n",
       "      <td>41.0</td>\n",
       "      <td>42.268293</td>\n",
       "      <td>24.443838</td>\n",
       "      <td>0.0</td>\n",
       "      <td>26.00</td>\n",
       "      <td>38.0</td>\n",
       "      <td>61.00</td>\n",
       "      <td>90.0</td>\n",
       "    </tr>\n",
       "    <tr>\n",
       "      <th>HR</th>\n",
       "      <td>32.0</td>\n",
       "      <td>48.125000</td>\n",
       "      <td>28.990265</td>\n",
       "      <td>0.0</td>\n",
       "      <td>21.75</td>\n",
       "      <td>51.5</td>\n",
       "      <td>68.00</td>\n",
       "      <td>98.0</td>\n",
       "    </tr>\n",
       "    <tr>\n",
       "      <th>IT</th>\n",
       "      <td>38.0</td>\n",
       "      <td>56.342105</td>\n",
       "      <td>30.615555</td>\n",
       "      <td>3.0</td>\n",
       "      <td>29.00</td>\n",
       "      <td>62.0</td>\n",
       "      <td>85.75</td>\n",
       "      <td>96.0</td>\n",
       "    </tr>\n",
       "    <tr>\n",
       "      <th>Marketing</th>\n",
       "      <td>42.0</td>\n",
       "      <td>44.261905</td>\n",
       "      <td>30.385378</td>\n",
       "      <td>0.0</td>\n",
       "      <td>15.25</td>\n",
       "      <td>44.0</td>\n",
       "      <td>62.00</td>\n",
       "      <td>97.0</td>\n",
       "    </tr>\n",
       "    <tr>\n",
       "      <th>Sales</th>\n",
       "      <td>47.0</td>\n",
       "      <td>44.212766</td>\n",
       "      <td>27.405122</td>\n",
       "      <td>1.0</td>\n",
       "      <td>19.00</td>\n",
       "      <td>42.0</td>\n",
       "      <td>57.00</td>\n",
       "      <td>98.0</td>\n",
       "    </tr>\n",
       "  </tbody>\n",
       "</table>\n",
       "</div>"
      ],
      "text/plain": [
       "            count       mean        std  min    25%   50%    75%   max\n",
       "Department                                                            \n",
       "Finance      41.0  42.268293  24.443838  0.0  26.00  38.0  61.00  90.0\n",
       "HR           32.0  48.125000  28.990265  0.0  21.75  51.5  68.00  98.0\n",
       "IT           38.0  56.342105  30.615555  3.0  29.00  62.0  85.75  96.0\n",
       "Marketing    42.0  44.261905  30.385378  0.0  15.25  44.0  62.00  97.0\n",
       "Sales        47.0  44.212766  27.405122  1.0  19.00  42.0  57.00  98.0"
      ]
     },
     "execution_count": 11,
     "metadata": {},
     "output_type": "execute_result"
    }
   ],
   "source": [
    "df.groupby('Department')['Productivity (%)'].describe()"
   ]
  },
  {
   "cell_type": "markdown",
   "id": "73c64a70",
   "metadata": {},
   "source": [
    "Interpretation: IT stands out as the most productive department on average (mean 56%), whereas departments like Marketing, Sales, and Finance have lower average productivity (mid-40s%). HR shows slightly higher productivity (48%) than Marketing or Sales, but still lower than IT. The error bars (standard deviation) are quite large for each department, meaning individual productivity varies widely within each group. Nonetheless, the trend suggests that employees in technical IT roles are achieving higher output, which could be due to better processes, tools, or perhaps more measurable output. Differences like these might inform management where productivity best practices are happening internally. "
   ]
  },
  {
   "cell_type": "code",
   "execution_count": null,
   "id": "b2c6941e",
   "metadata": {},
   "outputs": [],
   "source": []
  },
  {
   "cell_type": "markdown",
   "id": "d3829874",
   "metadata": {},
   "source": [
    "## 6. Satisfaction by Department"
   ]
  },
  {
   "cell_type": "code",
   "execution_count": 12,
   "id": "e6776231",
   "metadata": {},
   "outputs": [
    {
     "data": {
      "image/png": "[encoded data removed]",
      "text/plain": [
       "<Figure size 504x288 with 1 Axes>"
      ]
     },
     "metadata": {
      "needs_background": "light"
     },
     "output_type": "display_data"
    }
   ],
   "source": [
    "# Boxplot: Satisfaction Rate by Department\n",
    "plt.figure(figsize=(7,4))\n",
    "sns.boxplot(x='Department', y='Satisfaction Rate (%)', data=df, palette='Set2')\n",
    "plt.title('Job Satisfaction by Department')\n",
    "plt.xlabel('Department')\n",
    "plt.ylabel('Satisfaction Rate (%)')\n",
    "plt.xticks(rotation=30)\n",
    "plt.show()"
   ]
  },
  {
   "cell_type": "code",
   "execution_count": 13,
   "id": "85b2d085",
   "metadata": {},
   "outputs": [
    {
     "data": {
      "text/html": [
       "<div>\n",
       "<style scoped>\n",
       "    .dataframe tbody tr th:only-of-type {\n",
       "        vertical-align: middle;\n",
       "    }\n",
       "\n",
       "    .dataframe tbody tr th {\n",
       "        vertical-align: top;\n",
       "    }\n",
       "\n",
       "    .dataframe thead th {\n",
       "        text-align: right;\n",
       "    }\n",
       "</style>\n",
       "<table border=\"1\" class=\"dataframe\">\n",
       "  <thead>\n",
       "    <tr style=\"text-align: right;\">\n",
       "      <th></th>\n",
       "      <th>count</th>\n",
       "      <th>mean</th>\n",
       "      <th>std</th>\n",
       "      <th>min</th>\n",
       "      <th>25%</th>\n",
       "      <th>50%</th>\n",
       "      <th>75%</th>\n",
       "      <th>max</th>\n",
       "    </tr>\n",
       "    <tr>\n",
       "      <th>Department</th>\n",
       "      <th></th>\n",
       "      <th></th>\n",
       "      <th></th>\n",
       "      <th></th>\n",
       "      <th></th>\n",
       "      <th></th>\n",
       "      <th></th>\n",
       "      <th></th>\n",
       "    </tr>\n",
       "  </thead>\n",
       "  <tbody>\n",
       "    <tr>\n",
       "      <th>Finance</th>\n",
       "      <td>41.0</td>\n",
       "      <td>50.048780</td>\n",
       "      <td>24.350515</td>\n",
       "      <td>0.0</td>\n",
       "      <td>38.00</td>\n",
       "      <td>49.0</td>\n",
       "      <td>64.00</td>\n",
       "      <td>96.0</td>\n",
       "    </tr>\n",
       "    <tr>\n",
       "      <th>HR</th>\n",
       "      <td>32.0</td>\n",
       "      <td>51.625000</td>\n",
       "      <td>30.893939</td>\n",
       "      <td>0.0</td>\n",
       "      <td>26.50</td>\n",
       "      <td>58.5</td>\n",
       "      <td>79.25</td>\n",
       "      <td>97.0</td>\n",
       "    </tr>\n",
       "    <tr>\n",
       "      <th>IT</th>\n",
       "      <td>38.0</td>\n",
       "      <td>54.342105</td>\n",
       "      <td>30.141357</td>\n",
       "      <td>0.0</td>\n",
       "      <td>30.25</td>\n",
       "      <td>58.0</td>\n",
       "      <td>79.50</td>\n",
       "      <td>100.0</td>\n",
       "    </tr>\n",
       "    <tr>\n",
       "      <th>Marketing</th>\n",
       "      <td>42.0</td>\n",
       "      <td>46.023810</td>\n",
       "      <td>29.793180</td>\n",
       "      <td>4.0</td>\n",
       "      <td>20.75</td>\n",
       "      <td>37.5</td>\n",
       "      <td>72.25</td>\n",
       "      <td>99.0</td>\n",
       "    </tr>\n",
       "    <tr>\n",
       "      <th>Sales</th>\n",
       "      <td>47.0</td>\n",
       "      <td>48.617021</td>\n",
       "      <td>30.121171</td>\n",
       "      <td>5.0</td>\n",
       "      <td>22.00</td>\n",
       "      <td>45.0</td>\n",
       "      <td>77.50</td>\n",
       "      <td>98.0</td>\n",
       "    </tr>\n",
       "  </tbody>\n",
       "</table>\n",
       "</div>"
      ],
      "text/plain": [
       "            count       mean        std  min    25%   50%    75%    max\n",
       "Department                                                             \n",
       "Finance      41.0  50.048780  24.350515  0.0  38.00  49.0  64.00   96.0\n",
       "HR           32.0  51.625000  30.893939  0.0  26.50  58.5  79.25   97.0\n",
       "IT           38.0  54.342105  30.141357  0.0  30.25  58.0  79.50  100.0\n",
       "Marketing    42.0  46.023810  29.793180  4.0  20.75  37.5  72.25   99.0\n",
       "Sales        47.0  48.617021  30.121171  5.0  22.00  45.0  77.50   98.0"
      ]
     },
     "execution_count": 13,
     "metadata": {},
     "output_type": "execute_result"
    }
   ],
   "source": [
    "df.groupby('Department')['Satisfaction Rate (%)'].describe()"
   ]
  },
  {
   "cell_type": "markdown",
   "id": "3f788bc8",
   "metadata": {},
   "source": [
    "Interpretation: Job satisfaction varies by department. HR and IT departments show higher median satisfaction (upper-50%s) compared to Marketing, which has the lowest median satisfaction (37.5%). Sales and Finance are in between (medians roughly in the high 40s). HR in particular not only has a high median satisfaction but also a relatively high upper range (many HR employees report satisfaction above 60%). This aligns with the idea that HR employees tend to be more satisfied on average – one analysis noted HR had the highest average satisfaction among departments. In contrast, Marketing staff often report lower satisfaction, which could point to job stress or unmet expectations in that department. These departmental satisfaction differences are important, as they could relate to turnover rates or morale; managers may need to pay extra attention to departments like Marketing where satisfaction is lagging."
   ]
  },
  {
   "cell_type": "code",
   "execution_count": null,
   "id": "02469785",
   "metadata": {},
   "outputs": [],
   "source": []
  },
  {
   "cell_type": "markdown",
   "id": "8e82f363",
   "metadata": {},
   "source": [
    "## 7. Satisfaction by Job Position"
   ]
  },
  {
   "cell_type": "code",
   "execution_count": 14,
   "id": "0a7e81e3",
   "metadata": {},
   "outputs": [
    {
     "data": {
      "image/png": "[encoded data removed]",
      "text/plain": [
       "<Figure size 432x360 with 1 Axes>"
      ]
     },
     "metadata": {
      "needs_background": "light"
     },
     "output_type": "display_data"
    }
   ],
   "source": [
    "# Bar Chart: Average Satisfaction by Job Position\n",
    "pos_sat = df.groupby('Position')['Satisfaction Rate (%)'].mean().sort_values()\n",
    "plt.figure(figsize=(6,5))\n",
    "sns.barplot(x=pos_sat.values, y=pos_sat.index, color='teal')\n",
    "plt.title('Average Satisfaction by Job Position')\n",
    "plt.xlabel('Average Satisfaction Rate (%)')\n",
    "plt.ylabel('Position')\n",
    "plt.show()"
   ]
  },
  {
   "cell_type": "code",
   "execution_count": 15,
   "id": "5e8b70ea",
   "metadata": {},
   "outputs": [
    {
     "data": {
      "text/html": [
       "<div>\n",
       "<style scoped>\n",
       "    .dataframe tbody tr th:only-of-type {\n",
       "        vertical-align: middle;\n",
       "    }\n",
       "\n",
       "    .dataframe tbody tr th {\n",
       "        vertical-align: top;\n",
       "    }\n",
       "\n",
       "    .dataframe thead tr th {\n",
       "        text-align: left;\n",
       "    }\n",
       "\n",
       "    .dataframe thead tr:last-of-type th {\n",
       "        text-align: right;\n",
       "    }\n",
       "</style>\n",
       "<table border=\"1\" class=\"dataframe\">\n",
       "  <thead>\n",
       "    <tr>\n",
       "      <th></th>\n",
       "      <th colspan=\"8\" halign=\"left\">Satisfaction Rate (%)</th>\n",
       "    </tr>\n",
       "    <tr>\n",
       "      <th></th>\n",
       "      <th>count</th>\n",
       "      <th>mean</th>\n",
       "      <th>std</th>\n",
       "      <th>min</th>\n",
       "      <th>25%</th>\n",
       "      <th>50%</th>\n",
       "      <th>75%</th>\n",
       "      <th>max</th>\n",
       "    </tr>\n",
       "    <tr>\n",
       "      <th>Position</th>\n",
       "      <th></th>\n",
       "      <th></th>\n",
       "      <th></th>\n",
       "      <th></th>\n",
       "      <th></th>\n",
       "      <th></th>\n",
       "      <th></th>\n",
       "      <th></th>\n",
       "    </tr>\n",
       "  </thead>\n",
       "  <tbody>\n",
       "    <tr>\n",
       "      <th>Analyst</th>\n",
       "      <td>33.0</td>\n",
       "      <td>39.787879</td>\n",
       "      <td>24.129543</td>\n",
       "      <td>8.0</td>\n",
       "      <td>20.00</td>\n",
       "      <td>39.0</td>\n",
       "      <td>53.00</td>\n",
       "      <td>90.0</td>\n",
       "    </tr>\n",
       "    <tr>\n",
       "      <th>Intern</th>\n",
       "      <td>30.0</td>\n",
       "      <td>55.266667</td>\n",
       "      <td>29.971174</td>\n",
       "      <td>0.0</td>\n",
       "      <td>36.75</td>\n",
       "      <td>56.0</td>\n",
       "      <td>81.00</td>\n",
       "      <td>97.0</td>\n",
       "    </tr>\n",
       "    <tr>\n",
       "      <th>Junior Developer</th>\n",
       "      <td>35.0</td>\n",
       "      <td>54.057143</td>\n",
       "      <td>30.110525</td>\n",
       "      <td>3.0</td>\n",
       "      <td>30.50</td>\n",
       "      <td>53.0</td>\n",
       "      <td>79.50</td>\n",
       "      <td>100.0</td>\n",
       "    </tr>\n",
       "    <tr>\n",
       "      <th>Manager</th>\n",
       "      <td>40.0</td>\n",
       "      <td>55.575000</td>\n",
       "      <td>30.571386</td>\n",
       "      <td>1.0</td>\n",
       "      <td>24.75</td>\n",
       "      <td>61.5</td>\n",
       "      <td>82.00</td>\n",
       "      <td>100.0</td>\n",
       "    </tr>\n",
       "    <tr>\n",
       "      <th>Senior Developer</th>\n",
       "      <td>30.0</td>\n",
       "      <td>50.400000</td>\n",
       "      <td>28.215427</td>\n",
       "      <td>0.0</td>\n",
       "      <td>28.75</td>\n",
       "      <td>55.0</td>\n",
       "      <td>68.50</td>\n",
       "      <td>98.0</td>\n",
       "    </tr>\n",
       "    <tr>\n",
       "      <th>Team Lead</th>\n",
       "      <td>32.0</td>\n",
       "      <td>43.406250</td>\n",
       "      <td>27.864719</td>\n",
       "      <td>0.0</td>\n",
       "      <td>20.00</td>\n",
       "      <td>37.5</td>\n",
       "      <td>62.25</td>\n",
       "      <td>96.0</td>\n",
       "    </tr>\n",
       "  </tbody>\n",
       "</table>\n",
       "</div>"
      ],
      "text/plain": [
       "                 Satisfaction Rate (%)                                    \\\n",
       "                                 count       mean        std  min    25%   \n",
       "Position                                                                   \n",
       "Analyst                           33.0  39.787879  24.129543  8.0  20.00   \n",
       "Intern                            30.0  55.266667  29.971174  0.0  36.75   \n",
       "Junior Developer                  35.0  54.057143  30.110525  3.0  30.50   \n",
       "Manager                           40.0  55.575000  30.571386  1.0  24.75   \n",
       "Senior Developer                  30.0  50.400000  28.215427  0.0  28.75   \n",
       "Team Lead                         32.0  43.406250  27.864719  0.0  20.00   \n",
       "\n",
       "                                      \n",
       "                   50%    75%    max  \n",
       "Position                              \n",
       "Analyst           39.0  53.00   90.0  \n",
       "Intern            56.0  81.00   97.0  \n",
       "Junior Developer  53.0  79.50  100.0  \n",
       "Manager           61.5  82.00  100.0  \n",
       "Senior Developer  55.0  68.50   98.0  \n",
       "Team Lead         37.5  62.25   96.0  "
      ]
     },
     "execution_count": 15,
     "metadata": {},
     "output_type": "execute_result"
    }
   ],
   "source": [
    "df.groupby('Position')[['Satisfaction Rate (%)']].describe()"
   ]
  },
  {
   "cell_type": "markdown",
   "id": "36a39d0c",
   "metadata": {},
   "source": [
    "Interpretation: Managers and Interns top the satisfaction rankings, with managers averaging about 55.6% satisfaction and interns about 55.3%. It might be surprising that interns are as satisfied as managers – this could be due to interns’ excitement and learning opportunities despite lower pay. Junior Developers and Managers also have relatively high satisfaction (54%-55%). On the lower end, Analysts and Team Leads report lower satisfaction on average (around 39-43%). Senior Developers are in the middle (50%). This suggests that higher leadership roles (Managers) and entry-level roles (Interns) enjoy higher satisfaction, whereas mid-level positions (Team Leads, Analysts) might feel more pressure or less contentment. Such insight hints at a potential mid-level satisfaction gap where those in between top leadership and entry level might need more support or recognition."
   ]
  },
  {
   "cell_type": "code",
   "execution_count": null,
   "id": "67836e5b",
   "metadata": {},
   "outputs": [],
   "source": []
  },
  {
   "cell_type": "markdown",
   "id": "ee923067",
   "metadata": {},
   "source": [
    "## 8. Productivity by Job Position"
   ]
  },
  {
   "cell_type": "code",
   "execution_count": 16,
   "id": "efce6185",
   "metadata": {},
   "outputs": [
    {
     "data": {
      "image/png": "[encoded data removed]",
      "text/plain": [
       "<Figure size 432x360 with 1 Axes>"
      ]
     },
     "metadata": {
      "needs_background": "light"
     },
     "output_type": "display_data"
    }
   ],
   "source": [
    "# Bar Chart: Average Productivity by Job Position\n",
    "pos_prod = df.groupby('Position')['Productivity (%)'].mean().sort_values()\n",
    "plt.figure(figsize=(6,5))\n",
    "sns.barplot(x=pos_prod.values, y=pos_prod.index, color='salmon')\n",
    "plt.title('Average Productivity by Job Position')\n",
    "plt.xlabel('Average Productivity (%)')\n",
    "plt.ylabel('Position')\n",
    "plt.show()"
   ]
  },
  {
   "cell_type": "code",
   "execution_count": 17,
   "id": "d81ee640",
   "metadata": {},
   "outputs": [
    {
     "data": {
      "text/html": [
       "<div>\n",
       "<style scoped>\n",
       "    .dataframe tbody tr th:only-of-type {\n",
       "        vertical-align: middle;\n",
       "    }\n",
       "\n",
       "    .dataframe tbody tr th {\n",
       "        vertical-align: top;\n",
       "    }\n",
       "\n",
       "    .dataframe thead tr th {\n",
       "        text-align: left;\n",
       "    }\n",
       "\n",
       "    .dataframe thead tr:last-of-type th {\n",
       "        text-align: right;\n",
       "    }\n",
       "</style>\n",
       "<table border=\"1\" class=\"dataframe\">\n",
       "  <thead>\n",
       "    <tr>\n",
       "      <th></th>\n",
       "      <th colspan=\"8\" halign=\"left\">Productivity (%)</th>\n",
       "    </tr>\n",
       "    <tr>\n",
       "      <th></th>\n",
       "      <th>count</th>\n",
       "      <th>mean</th>\n",
       "      <th>std</th>\n",
       "      <th>min</th>\n",
       "      <th>25%</th>\n",
       "      <th>50%</th>\n",
       "      <th>75%</th>\n",
       "      <th>max</th>\n",
       "    </tr>\n",
       "    <tr>\n",
       "      <th>Position</th>\n",
       "      <th></th>\n",
       "      <th></th>\n",
       "      <th></th>\n",
       "      <th></th>\n",
       "      <th></th>\n",
       "      <th></th>\n",
       "      <th></th>\n",
       "      <th></th>\n",
       "    </tr>\n",
       "  </thead>\n",
       "  <tbody>\n",
       "    <tr>\n",
       "      <th>Analyst</th>\n",
       "      <td>33.0</td>\n",
       "      <td>44.545455</td>\n",
       "      <td>27.093693</td>\n",
       "      <td>0.0</td>\n",
       "      <td>23.00</td>\n",
       "      <td>41.0</td>\n",
       "      <td>59.00</td>\n",
       "      <td>97.0</td>\n",
       "    </tr>\n",
       "    <tr>\n",
       "      <th>Intern</th>\n",
       "      <td>30.0</td>\n",
       "      <td>41.333333</td>\n",
       "      <td>31.924840</td>\n",
       "      <td>0.0</td>\n",
       "      <td>13.50</td>\n",
       "      <td>33.5</td>\n",
       "      <td>66.75</td>\n",
       "      <td>95.0</td>\n",
       "    </tr>\n",
       "    <tr>\n",
       "      <th>Junior Developer</th>\n",
       "      <td>35.0</td>\n",
       "      <td>52.314286</td>\n",
       "      <td>28.591207</td>\n",
       "      <td>1.0</td>\n",
       "      <td>27.50</td>\n",
       "      <td>48.0</td>\n",
       "      <td>76.50</td>\n",
       "      <td>96.0</td>\n",
       "    </tr>\n",
       "    <tr>\n",
       "      <th>Manager</th>\n",
       "      <td>40.0</td>\n",
       "      <td>48.675000</td>\n",
       "      <td>27.421111</td>\n",
       "      <td>2.0</td>\n",
       "      <td>25.25</td>\n",
       "      <td>51.5</td>\n",
       "      <td>68.25</td>\n",
       "      <td>98.0</td>\n",
       "    </tr>\n",
       "    <tr>\n",
       "      <th>Senior Developer</th>\n",
       "      <td>30.0</td>\n",
       "      <td>50.233333</td>\n",
       "      <td>28.596700</td>\n",
       "      <td>0.0</td>\n",
       "      <td>29.00</td>\n",
       "      <td>51.5</td>\n",
       "      <td>74.00</td>\n",
       "      <td>98.0</td>\n",
       "    </tr>\n",
       "    <tr>\n",
       "      <th>Team Lead</th>\n",
       "      <td>32.0</td>\n",
       "      <td>42.375000</td>\n",
       "      <td>28.312484</td>\n",
       "      <td>0.0</td>\n",
       "      <td>21.00</td>\n",
       "      <td>40.5</td>\n",
       "      <td>55.00</td>\n",
       "      <td>97.0</td>\n",
       "    </tr>\n",
       "  </tbody>\n",
       "</table>\n",
       "</div>"
      ],
      "text/plain": [
       "                 Productivity (%)                                          \\\n",
       "                            count       mean        std  min    25%   50%   \n",
       "Position                                                                    \n",
       "Analyst                      33.0  44.545455  27.093693  0.0  23.00  41.0   \n",
       "Intern                       30.0  41.333333  31.924840  0.0  13.50  33.5   \n",
       "Junior Developer             35.0  52.314286  28.591207  1.0  27.50  48.0   \n",
       "Manager                      40.0  48.675000  27.421111  2.0  25.25  51.5   \n",
       "Senior Developer             30.0  50.233333  28.596700  0.0  29.00  51.5   \n",
       "Team Lead                    32.0  42.375000  28.312484  0.0  21.00  40.5   \n",
       "\n",
       "                               \n",
       "                    75%   max  \n",
       "Position                       \n",
       "Analyst           59.00  97.0  \n",
       "Intern            66.75  95.0  \n",
       "Junior Developer  76.50  96.0  \n",
       "Manager           68.25  98.0  \n",
       "Senior Developer  74.00  98.0  \n",
       "Team Lead         55.00  97.0  "
      ]
     },
     "execution_count": 17,
     "metadata": {},
     "output_type": "execute_result"
    }
   ],
   "source": [
    "df.groupby('Position')[['Productivity (%)']].describe()"
   ]
  },
  {
   "cell_type": "markdown",
   "id": "a9ec0379",
   "metadata": {},
   "source": [
    "Interpretation: Junior Developers have the highest average productivity (52.3%), which suggests that this group (often early-career tech employees) is very output-focused. Senior Developers and Managers also show fairly high productivity (48%-50%). On the lower side, Team Leads and Analysts have lower average productivity (around 42-44%). Interns unsurprisingly have the lowest average productivity (41%), likely due to lack of experience and still being in learning phases. Interestingly, despite managers being less hands-on, their productivity percentage is reasonably high – possibly reflecting that their performance is also measured in the dataset by similar metrics or that they contribute significantly through oversight. The spread in productivity across roles indicates how workload and expectations differ by position. **Coupling this with the previous insight, one notable pattern is that Team Leads and Analysts are both low in satisfaction and productivity, suggesting possible role challenges or burnout that could be addressed.**"
   ]
  },
  {
   "cell_type": "code",
   "execution_count": null,
   "id": "fba01375",
   "metadata": {},
   "outputs": [],
   "source": []
  },
  {
   "cell_type": "markdown",
   "id": "5ee01037",
   "metadata": {},
   "source": [
    "## 9. Age and the Satisfaction-Productivity Trade-off"
   ]
  },
  {
   "cell_type": "code",
   "execution_count": 18,
   "id": "983cb718",
   "metadata": {},
   "outputs": [
    {
     "data": {
      "image/png": "[encoded data removed]",
      "text/plain": [
       "<Figure size 432x288 with 1 Axes>"
      ]
     },
     "metadata": {
      "needs_background": "light"
     },
     "output_type": "display_data"
    }
   ],
   "source": [
    "# Line Plot: Satisfaction and Productivity by Age Group\n",
    "age_groups = pd.cut(df['Age'], bins=[0,29,39,100], labels=['<30','30-39','40+'])\n",
    "age_stats = df.groupby(age_groups)[['Satisfaction Rate (%)','Productivity (%)']].mean()\n",
    "\n",
    "plt.figure(figsize=(6,4))\n",
    "plt.plot(age_stats.index, age_stats['Satisfaction Rate (%)'], marker='o', label='Avg Satisfaction', color='blue')\n",
    "plt.plot(age_stats.index, age_stats['Productivity (%)'], marker='o', label='Avg Productivity', color='red')\n",
    "plt.title('Satisfaction and Productivity by Age Group')\n",
    "plt.xlabel('Age Group')\n",
    "plt.ylabel('Percentage')\n",
    "plt.ylim(44, 53)  # focusing on the range of interest\n",
    "plt.grid(axis='y', linestyle='--', alpha=0.5)\n",
    "plt.legend()\n",
    "plt.show()\n"
   ]
  },
  {
   "cell_type": "code",
   "execution_count": 19,
   "id": "01059fe2",
   "metadata": {},
   "outputs": [
    {
     "data": {
      "text/html": [
       "<div>\n",
       "<style scoped>\n",
       "    .dataframe tbody tr th:only-of-type {\n",
       "        vertical-align: middle;\n",
       "    }\n",
       "\n",
       "    .dataframe tbody tr th {\n",
       "        vertical-align: top;\n",
       "    }\n",
       "\n",
       "    .dataframe thead th {\n",
       "        text-align: right;\n",
       "    }\n",
       "</style>\n",
       "<table border=\"1\" class=\"dataframe\">\n",
       "  <thead>\n",
       "    <tr style=\"text-align: right;\">\n",
       "      <th></th>\n",
       "      <th>Satisfaction Rate (%)</th>\n",
       "      <th>Productivity (%)</th>\n",
       "    </tr>\n",
       "    <tr>\n",
       "      <th>Age</th>\n",
       "      <th></th>\n",
       "      <th></th>\n",
       "    </tr>\n",
       "  </thead>\n",
       "  <tbody>\n",
       "    <tr>\n",
       "      <th>&lt;30</th>\n",
       "      <td>50.746988</td>\n",
       "      <td>44.674699</td>\n",
       "    </tr>\n",
       "    <tr>\n",
       "      <th>30-39</th>\n",
       "      <td>46.410714</td>\n",
       "      <td>50.589286</td>\n",
       "    </tr>\n",
       "    <tr>\n",
       "      <th>40+</th>\n",
       "      <td>52.065574</td>\n",
       "      <td>46.065574</td>\n",
       "    </tr>\n",
       "  </tbody>\n",
       "</table>\n",
       "</div>"
      ],
      "text/plain": [
       "       Satisfaction Rate (%)  Productivity (%)\n",
       "Age                                           \n",
       "<30                50.746988         44.674699\n",
       "30-39              46.410714         50.589286\n",
       "40+                52.065574         46.065574"
      ]
     },
     "execution_count": 19,
     "metadata": {},
     "output_type": "execute_result"
    }
   ],
   "source": [
    "df.groupby(age_groups)[['Satisfaction Rate (%)', 'Productivity (%)']].mean()"
   ]
  },
  {
   "cell_type": "markdown",
   "id": "5055fec1",
   "metadata": {},
   "source": [
    "Interpretation: The lines cross, indicating an inverse relationship trend by age group. Under-30 employees have fairly high satisfaction (50.7%) but lower productivity (44.7%). 30–39 year-olds are the opposite: they achieve the highest productivity (50.6%) but have the lowest satisfaction (46.4%). Employees 40 and above see satisfaction rise again to the highest level (52.1%), while productivity declines (46.1%). This reflects a likely mid-career satisfaction slump: employees in their 30s are driving output but may experience more stress or dissatisfaction (possibly due to greater responsibilities or plateauing growth). Younger employees tend to be optimistic (higher satisfaction) but still gaining efficiency (lower productivity), whereas older employees might value stability and have adjusted expectations (hence higher satisfaction) while perhaps not working as intensively as in mid-career. "
   ]
  },
  {
   "cell_type": "code",
   "execution_count": null,
   "id": "c4c8f9de",
   "metadata": {},
   "outputs": [],
   "source": []
  },
  {
   "cell_type": "markdown",
   "id": "ce396038",
   "metadata": {},
   "source": [
    " ## 10. Satisfaction by Salary Range"
   ]
  },
  {
   "cell_type": "code",
   "execution_count": 20,
   "id": "73b29074",
   "metadata": {},
   "outputs": [
    {
     "data": {
      "image/png": "[encoded data removed]",
      "text/plain": [
       "<Figure size 432x288 with 1 Axes>"
      ]
     },
     "metadata": {
      "needs_background": "light"
     },
     "output_type": "display_data"
    }
   ],
   "source": [
    "# Line Plot: Average Satisfaction by Salary Range\n",
    "salary_bins = [0, 40000, 60000, 80000, 100000, float('inf')]\n",
    "salary_labels = ['<40k','40k-60k','60k-80k','80k-100k','100k+']\n",
    "df['Salary Range'] = pd.cut(df['Salary'], bins=salary_bins, labels=salary_labels)\n",
    "sal_sat = df.groupby('Salary Range')['Satisfaction Rate (%)'].mean()\n",
    "\n",
    "plt.figure(figsize=(6,4))\n",
    "plt.plot(sal_sat.index, sal_sat.values, marker='o', color='green')\n",
    "plt.title('Average Satisfaction by Salary Range')\n",
    "plt.xlabel('Salary Range')\n",
    "plt.ylabel('Average Satisfaction Rate (%)')\n",
    "plt.ylim(35, 60)\n",
    "plt.grid(axis='y', linestyle='--', alpha=0.5)\n",
    "plt.show()\n"
   ]
  },
  {
   "cell_type": "code",
   "execution_count": 21,
   "id": "6d4c371f",
   "metadata": {},
   "outputs": [
    {
     "data": {
      "text/html": [
       "<div>\n",
       "<style scoped>\n",
       "    .dataframe tbody tr th:only-of-type {\n",
       "        vertical-align: middle;\n",
       "    }\n",
       "\n",
       "    .dataframe tbody tr th {\n",
       "        vertical-align: top;\n",
       "    }\n",
       "\n",
       "    .dataframe thead th {\n",
       "        text-align: right;\n",
       "    }\n",
       "</style>\n",
       "<table border=\"1\" class=\"dataframe\">\n",
       "  <thead>\n",
       "    <tr style=\"text-align: right;\">\n",
       "      <th></th>\n",
       "      <th>Satisfaction Rate (%)</th>\n",
       "    </tr>\n",
       "    <tr>\n",
       "      <th>Salary Range</th>\n",
       "      <th></th>\n",
       "    </tr>\n",
       "  </thead>\n",
       "  <tbody>\n",
       "    <tr>\n",
       "      <th>&lt;40k</th>\n",
       "      <td>55.266667</td>\n",
       "    </tr>\n",
       "    <tr>\n",
       "      <th>40k-60k</th>\n",
       "      <td>54.057143</td>\n",
       "    </tr>\n",
       "    <tr>\n",
       "      <th>60k-80k</th>\n",
       "      <td>39.787879</td>\n",
       "    </tr>\n",
       "    <tr>\n",
       "      <th>80k-100k</th>\n",
       "      <td>44.465116</td>\n",
       "    </tr>\n",
       "    <tr>\n",
       "      <th>100k+</th>\n",
       "      <td>54.440678</td>\n",
       "    </tr>\n",
       "  </tbody>\n",
       "</table>\n",
       "</div>"
      ],
      "text/plain": [
       "              Satisfaction Rate (%)\n",
       "Salary Range                       \n",
       "<40k                      55.266667\n",
       "40k-60k                   54.057143\n",
       "60k-80k                   39.787879\n",
       "80k-100k                  44.465116\n",
       "100k+                     54.440678"
      ]
     },
     "execution_count": 21,
     "metadata": {},
     "output_type": "execute_result"
    }
   ],
   "source": [
    "df.groupby('Salary Range')[['Satisfaction Rate (%)']].mean()"
   ]
  },
  {
   "cell_type": "markdown",
   "id": "8a88f085",
   "metadata": {},
   "source": [
    "Interpretation: The relationship between salary and satisfaction is not linear. In fact, the lowest salary group (<40k) has a relatively high average satisfaction (55.3%). Satisfaction then slightly drops for the 40k–60k group (54.1%), and reaches a minimum in the 60k–80k range (39.8% – a notable dip). However, as salaries increase further, satisfaction climbs back up: the 80k–100k range averages about 44.5%, and the 100k+ group jumps to 54.4%, nearly as high as the lowest-paid group. This forms a V-shaped pattern where mid-level salaries correspond to the lowest satisfaction. One interpretation is that employees in mid-level earnings (often mid-career, mid-level positions) might feel pressure or discontent (possibly expecting higher pay or facing life/career challenges), whereas those earning very high salaries may enjoy perks and security that boost satisfaction, and those with very low salaries might be younger employees with optimistic outlooks or lower expectations. This finding suggests that simply increasing pay does not linearly increase satisfaction – other factors (job role, growth opportunities, work-life balance) likely play substantial roles, especially for the middle salary brackets."
   ]
  },
  {
   "cell_type": "code",
   "execution_count": null,
   "id": "1a4b4667",
   "metadata": {},
   "outputs": [],
   "source": []
  },
  {
   "cell_type": "markdown",
   "id": "fc2b3197",
   "metadata": {},
   "source": [
    "## 11. Productivity by Salary Range"
   ]
  },
  {
   "cell_type": "code",
   "execution_count": 22,
   "id": "3ba7bb4f",
   "metadata": {},
   "outputs": [
    {
     "data": {
      "image/png": "[encoded data removed]",
      "text/plain": [
       "<Figure size 432x288 with 1 Axes>"
      ]
     },
     "metadata": {
      "needs_background": "light"
     },
     "output_type": "display_data"
    }
   ],
   "source": [
    "# Bar Chart: Average Productivity by Salary Range\n",
    "sal_prod_mean = df.groupby('Salary Range')['Productivity (%)'].mean()\n",
    "sal_prod_std = df.groupby('Salary Range')['Productivity (%)'].std()\n",
    "\n",
    "plt.figure(figsize=(6,4))\n",
    "sns.barplot(x=sal_prod_mean.index, y=sal_prod_mean.values, yerr=sal_prod_std.values, palette='viridis')\n",
    "plt.title('Average Productivity by Salary Range')\n",
    "plt.xlabel('Salary Range')\n",
    "plt.ylabel('Average Productivity (%)')\n",
    "plt.show()"
   ]
  },
  {
   "cell_type": "code",
   "execution_count": 23,
   "id": "43f94120",
   "metadata": {},
   "outputs": [
    {
     "data": {
      "text/html": [
       "<div>\n",
       "<style scoped>\n",
       "    .dataframe tbody tr th:only-of-type {\n",
       "        vertical-align: middle;\n",
       "    }\n",
       "\n",
       "    .dataframe tbody tr th {\n",
       "        vertical-align: top;\n",
       "    }\n",
       "\n",
       "    .dataframe thead th {\n",
       "        text-align: right;\n",
       "    }\n",
       "</style>\n",
       "<table border=\"1\" class=\"dataframe\">\n",
       "  <thead>\n",
       "    <tr style=\"text-align: right;\">\n",
       "      <th></th>\n",
       "      <th>Productivity (%)</th>\n",
       "    </tr>\n",
       "    <tr>\n",
       "      <th>Salary Range</th>\n",
       "      <th></th>\n",
       "    </tr>\n",
       "  </thead>\n",
       "  <tbody>\n",
       "    <tr>\n",
       "      <th>&lt;40k</th>\n",
       "      <td>41.333333</td>\n",
       "    </tr>\n",
       "    <tr>\n",
       "      <th>40k-60k</th>\n",
       "      <td>52.314286</td>\n",
       "    </tr>\n",
       "    <tr>\n",
       "      <th>60k-80k</th>\n",
       "      <td>44.545455</td>\n",
       "    </tr>\n",
       "    <tr>\n",
       "      <th>80k-100k</th>\n",
       "      <td>45.023256</td>\n",
       "    </tr>\n",
       "    <tr>\n",
       "      <th>100k+</th>\n",
       "      <td>48.711864</td>\n",
       "    </tr>\n",
       "  </tbody>\n",
       "</table>\n",
       "</div>"
      ],
      "text/plain": [
       "              Productivity (%)\n",
       "Salary Range                  \n",
       "<40k                 41.333333\n",
       "40k-60k              52.314286\n",
       "60k-80k              44.545455\n",
       "80k-100k             45.023256\n",
       "100k+                48.711864"
      ]
     },
     "execution_count": 23,
     "metadata": {},
     "output_type": "execute_result"
    }
   ],
   "source": [
    "df.groupby('Salary Range')[['Productivity (%)']].mean()"
   ]
  },
  {
   "cell_type": "code",
   "execution_count": 24,
   "id": "47e4de54",
   "metadata": {},
   "outputs": [
    {
     "data": {
      "text/html": [
       "<div>\n",
       "<style scoped>\n",
       "    .dataframe tbody tr th:only-of-type {\n",
       "        vertical-align: middle;\n",
       "    }\n",
       "\n",
       "    .dataframe tbody tr th {\n",
       "        vertical-align: top;\n",
       "    }\n",
       "\n",
       "    .dataframe thead th {\n",
       "        text-align: right;\n",
       "    }\n",
       "</style>\n",
       "<table border=\"1\" class=\"dataframe\">\n",
       "  <thead>\n",
       "    <tr style=\"text-align: right;\">\n",
       "      <th></th>\n",
       "      <th>Productivity (%)</th>\n",
       "    </tr>\n",
       "    <tr>\n",
       "      <th>Salary Range</th>\n",
       "      <th></th>\n",
       "    </tr>\n",
       "  </thead>\n",
       "  <tbody>\n",
       "    <tr>\n",
       "      <th>&lt;40k</th>\n",
       "      <td>31.924840</td>\n",
       "    </tr>\n",
       "    <tr>\n",
       "      <th>40k-60k</th>\n",
       "      <td>28.591207</td>\n",
       "    </tr>\n",
       "    <tr>\n",
       "      <th>60k-80k</th>\n",
       "      <td>27.093693</td>\n",
       "    </tr>\n",
       "    <tr>\n",
       "      <th>80k-100k</th>\n",
       "      <td>28.236660</td>\n",
       "    </tr>\n",
       "    <tr>\n",
       "      <th>100k+</th>\n",
       "      <td>27.907514</td>\n",
       "    </tr>\n",
       "  </tbody>\n",
       "</table>\n",
       "</div>"
      ],
      "text/plain": [
       "              Productivity (%)\n",
       "Salary Range                  \n",
       "<40k                 31.924840\n",
       "40k-60k              28.591207\n",
       "60k-80k              27.093693\n",
       "80k-100k             28.236660\n",
       "100k+                27.907514"
      ]
     },
     "execution_count": 24,
     "metadata": {},
     "output_type": "execute_result"
    }
   ],
   "source": [
    "df.groupby('Salary Range')[['Productivity (%)']].std()"
   ]
  },
  {
   "cell_type": "markdown",
   "id": "5be13e87",
   "metadata": {},
   "source": [
    "Interpretation: Productivity does not steadily rise with salary either. The 40k–60k salary group has the highest average productivity (52.3%). This mid-level salary bracket likely includes many technical contributors (e.g., junior developers) who are highly productive. The lowest salary group (<40k, likely interns and entry-level roles) has lower productivity (41.3%). Interestingly, the highest salary group (100k+) has a moderate productivity (48.7%), not the highest despite their experience and senior roles – possibly because these roles involve more strategic tasks not captured fully by a raw productivity metric. Salary ranges 60k–80k and 80k–100k show slightly lower productivity (mid-40s). The error bars indicate considerable variability within each bracket, overlapping substantially. Together with insight 10, we see a scenario where mid-level earners are working hardest (highest output) but not the happiest, whereas the highest earners have good-not-great productivity but high satisfaction. This could reflect that mid-level employees push themselves for career advancement (boosting productivity at the expense of satisfaction), while top earners might have reached a plateau where they don’t need to overextend to maintain their status."
   ]
  },
  {
   "cell_type": "code",
   "execution_count": null,
   "id": "6354ee34",
   "metadata": {},
   "outputs": [],
   "source": []
  },
  {
   "cell_type": "markdown",
   "id": "2bc6cb65",
   "metadata": {},
   "source": [
    "## 12. High-Performance but Low-Satisfaction Employees (Potential Burnout)"
   ]
  },
  {
   "cell_type": "code",
   "execution_count": 25,
   "id": "8e772184",
   "metadata": {},
   "outputs": [
    {
     "data": {
      "image/png": "[encoded data removed]",
      "text/plain": [
       "<Figure size 432x432 with 1 Axes>"
      ]
     },
     "metadata": {
      "needs_background": "light"
     },
     "output_type": "display_data"
    }
   ],
   "source": [
    "# Highlight high productivity, low satisfaction cases\n",
    "high_prod_low_sat = df[(df['Productivity (%)']>80) & (df['Satisfaction Rate (%)']<20)]\n",
    "plt.figure(figsize=(6,6))\n",
    "plt.scatter(df['Satisfaction Rate (%)'], df['Productivity (%)'], color='lightgray', marker='x', label='Other Employees')\n",
    "plt.scatter(high_prod_low_sat['Satisfaction Rate (%)'], high_prod_low_sat['Productivity (%)'], \n",
    "            color='red', marker='X', s=100, label='High-Prod, Low-Sat')\n",
    "plt.title('High Productivity but Low Satisfaction Cases')\n",
    "plt.xlabel('Satisfaction Rate (%)')\n",
    "plt.ylabel('Productivity (%)')\n",
    "plt.legend(loc='center left')\n",
    "plt.grid(True, linestyle=':', alpha=0.5)\n",
    "plt.show()"
   ]
  },
  {
   "cell_type": "code",
   "execution_count": 26,
   "id": "52ad7922",
   "metadata": {},
   "outputs": [
    {
     "data": {
      "text/html": [
       "<div>\n",
       "<style scoped>\n",
       "    .dataframe tbody tr th:only-of-type {\n",
       "        vertical-align: middle;\n",
       "    }\n",
       "\n",
       "    .dataframe tbody tr th {\n",
       "        vertical-align: top;\n",
       "    }\n",
       "\n",
       "    .dataframe thead th {\n",
       "        text-align: right;\n",
       "    }\n",
       "</style>\n",
       "<table border=\"1\" class=\"dataframe\">\n",
       "  <thead>\n",
       "    <tr style=\"text-align: right;\">\n",
       "      <th></th>\n",
       "      <th>Name</th>\n",
       "      <th>Age</th>\n",
       "      <th>Gender</th>\n",
       "      <th>Projects Completed</th>\n",
       "      <th>Productivity (%)</th>\n",
       "      <th>Satisfaction Rate (%)</th>\n",
       "      <th>Feedback Score</th>\n",
       "      <th>Department</th>\n",
       "      <th>Position</th>\n",
       "      <th>Joining Date</th>\n",
       "      <th>Salary</th>\n",
       "      <th>Salary Range</th>\n",
       "    </tr>\n",
       "  </thead>\n",
       "  <tbody>\n",
       "    <tr>\n",
       "      <th>2</th>\n",
       "      <td>Thomas Miller</td>\n",
       "      <td>30</td>\n",
       "      <td>Male</td>\n",
       "      <td>8</td>\n",
       "      <td>87</td>\n",
       "      <td>10</td>\n",
       "      <td>2.4</td>\n",
       "      <td>IT</td>\n",
       "      <td>Analyst</td>\n",
       "      <td>Jan-17</td>\n",
       "      <td>66292</td>\n",
       "      <td>60k-80k</td>\n",
       "    </tr>\n",
       "    <tr>\n",
       "      <th>14</th>\n",
       "      <td>Angela Davis</td>\n",
       "      <td>29</td>\n",
       "      <td>Male</td>\n",
       "      <td>18</td>\n",
       "      <td>88</td>\n",
       "      <td>8</td>\n",
       "      <td>1.8</td>\n",
       "      <td>Sales</td>\n",
       "      <td>Senior Developer</td>\n",
       "      <td>Jan-18</td>\n",
       "      <td>89571</td>\n",
       "      <td>80k-100k</td>\n",
       "    </tr>\n",
       "    <tr>\n",
       "      <th>80</th>\n",
       "      <td>Sarah Fernandez</td>\n",
       "      <td>57</td>\n",
       "      <td>Female</td>\n",
       "      <td>23</td>\n",
       "      <td>84</td>\n",
       "      <td>8</td>\n",
       "      <td>1.9</td>\n",
       "      <td>HR</td>\n",
       "      <td>Manager</td>\n",
       "      <td>Jan-06</td>\n",
       "      <td>115901</td>\n",
       "      <td>100k+</td>\n",
       "    </tr>\n",
       "    <tr>\n",
       "      <th>87</th>\n",
       "      <td>Jerry Mccoy</td>\n",
       "      <td>44</td>\n",
       "      <td>Male</td>\n",
       "      <td>17</td>\n",
       "      <td>89</td>\n",
       "      <td>0</td>\n",
       "      <td>2.1</td>\n",
       "      <td>IT</td>\n",
       "      <td>Senior Developer</td>\n",
       "      <td>Jan-03</td>\n",
       "      <td>93702</td>\n",
       "      <td>80k-100k</td>\n",
       "    </tr>\n",
       "    <tr>\n",
       "      <th>99</th>\n",
       "      <td>Mary Barber</td>\n",
       "      <td>39</td>\n",
       "      <td>Female</td>\n",
       "      <td>24</td>\n",
       "      <td>81</td>\n",
       "      <td>18</td>\n",
       "      <td>4.1</td>\n",
       "      <td>Finance</td>\n",
       "      <td>Manager</td>\n",
       "      <td>Jan-16</td>\n",
       "      <td>108820</td>\n",
       "      <td>100k+</td>\n",
       "    </tr>\n",
       "    <tr>\n",
       "      <th>183</th>\n",
       "      <td>Russell Newton</td>\n",
       "      <td>27</td>\n",
       "      <td>Male</td>\n",
       "      <td>3</td>\n",
       "      <td>85</td>\n",
       "      <td>5</td>\n",
       "      <td>4.4</td>\n",
       "      <td>IT</td>\n",
       "      <td>Junior Developer</td>\n",
       "      <td>Jan-20</td>\n",
       "      <td>51135</td>\n",
       "      <td>40k-60k</td>\n",
       "    </tr>\n",
       "    <tr>\n",
       "      <th>190</th>\n",
       "      <td>Joseph Friedman</td>\n",
       "      <td>35</td>\n",
       "      <td>Male</td>\n",
       "      <td>18</td>\n",
       "      <td>90</td>\n",
       "      <td>0</td>\n",
       "      <td>3.7</td>\n",
       "      <td>Finance</td>\n",
       "      <td>Team Lead</td>\n",
       "      <td>Jan-13</td>\n",
       "      <td>105640</td>\n",
       "      <td>100k+</td>\n",
       "    </tr>\n",
       "  </tbody>\n",
       "</table>\n",
       "</div>"
      ],
      "text/plain": [
       "                Name  Age  Gender  Projects Completed  Productivity (%)  \\\n",
       "2      Thomas Miller   30    Male                   8                87   \n",
       "14      Angela Davis   29    Male                  18                88   \n",
       "80   Sarah Fernandez   57  Female                  23                84   \n",
       "87       Jerry Mccoy   44    Male                  17                89   \n",
       "99       Mary Barber   39  Female                  24                81   \n",
       "183   Russell Newton   27    Male                   3                85   \n",
       "190  Joseph Friedman   35    Male                  18                90   \n",
       "\n",
       "     Satisfaction Rate (%)  Feedback Score Department          Position  \\\n",
       "2                       10             2.4         IT           Analyst   \n",
       "14                       8             1.8      Sales  Senior Developer   \n",
       "80                       8             1.9         HR           Manager   \n",
       "87                       0             2.1         IT  Senior Developer   \n",
       "99                      18             4.1    Finance           Manager   \n",
       "183                      5             4.4         IT  Junior Developer   \n",
       "190                      0             3.7    Finance         Team Lead   \n",
       "\n",
       "    Joining Date  Salary Salary Range  \n",
       "2         Jan-17   66292      60k-80k  \n",
       "14        Jan-18   89571     80k-100k  \n",
       "80        Jan-06  115901        100k+  \n",
       "87        Jan-03   93702     80k-100k  \n",
       "99        Jan-16  108820        100k+  \n",
       "183       Jan-20   51135      40k-60k  \n",
       "190       Jan-13  105640        100k+  "
      ]
     },
     "execution_count": 26,
     "metadata": {},
     "output_type": "execute_result"
    }
   ],
   "source": [
    "high_prod_low_sat"
   ]
  },
  {
   "cell_type": "markdown",
   "id": "f9c0f60c",
   "metadata": {},
   "source": [
    "Interpretation: The plot highlights a handful of red X markers in the upper-left quadrant – these represent employees who are excelling in productivity (80-90% range) but have extremely low satisfaction. In our dataset, 7 employees fall in this category. They come from various departments (IT, Sales, HR, Finance) and include roles like Analysts, Team Leads, and Senior Developers. These individuals are likely at high risk of burnout or turnover: they deliver strong results but are unhappy in their jobs. It’s crucial for management to recognize and address such cases – perhaps through discussions about workload, recognition, or role fit – because losing these high performers could hurt the company. This insight underscores that productivity alone can mask underlying dissatisfaction. Even as these employees succeed on paper, their engagement is low, and interventions might be needed to improve their job satisfaction or redistribute their load."
   ]
  },
  {
   "cell_type": "code",
   "execution_count": null,
   "id": "088f9c8e",
   "metadata": {},
   "outputs": [],
   "source": []
  },
  {
   "cell_type": "markdown",
   "id": "0cb7c2b9",
   "metadata": {},
   "source": [
    "## 13. High-Satisfaction but Low-Productivity Employees"
   ]
  },
  {
   "cell_type": "code",
   "execution_count": 27,
   "id": "94f61582",
   "metadata": {},
   "outputs": [
    {
     "data": {
      "image/png": "[encoded data removed]",
      "text/plain": [
       "<Figure size 432x432 with 1 Axes>"
      ]
     },
     "metadata": {
      "needs_background": "light"
     },
     "output_type": "display_data"
    }
   ],
   "source": [
    "# Highlight high satisfaction, low productivity cases\n",
    "high_sat_low_prod = df[(df['Satisfaction Rate (%)']>80) & (df['Productivity (%)']<20)]\n",
    "plt.figure(figsize=(6,6))\n",
    "plt.scatter(df['Satisfaction Rate (%)'], df['Productivity (%)'], color='lightgray', marker='x', label='Other Employees')\n",
    "plt.scatter(high_sat_low_prod['Satisfaction Rate (%)'], high_sat_low_prod['Productivity (%)'], \n",
    "            color='blue', marker='X', s=100, label='High-Sat, Low-Prod')\n",
    "plt.title('High Satisfaction but Low Productivity Cases')\n",
    "plt.xlabel('Satisfaction Rate (%)')\n",
    "plt.ylabel('Productivity (%)')\n",
    "plt.legend(loc='center right')\n",
    "plt.grid(True, linestyle=':', alpha=0.5)\n",
    "plt.show()\n"
   ]
  },
  {
   "cell_type": "code",
   "execution_count": 28,
   "id": "745a0dbd",
   "metadata": {},
   "outputs": [
    {
     "data": {
      "text/html": [
       "<div>\n",
       "<style scoped>\n",
       "    .dataframe tbody tr th:only-of-type {\n",
       "        vertical-align: middle;\n",
       "    }\n",
       "\n",
       "    .dataframe tbody tr th {\n",
       "        vertical-align: top;\n",
       "    }\n",
       "\n",
       "    .dataframe thead th {\n",
       "        text-align: right;\n",
       "    }\n",
       "</style>\n",
       "<table border=\"1\" class=\"dataframe\">\n",
       "  <thead>\n",
       "    <tr style=\"text-align: right;\">\n",
       "      <th></th>\n",
       "      <th>Name</th>\n",
       "      <th>Age</th>\n",
       "      <th>Gender</th>\n",
       "      <th>Projects Completed</th>\n",
       "      <th>Productivity (%)</th>\n",
       "      <th>Satisfaction Rate (%)</th>\n",
       "      <th>Feedback Score</th>\n",
       "      <th>Department</th>\n",
       "      <th>Position</th>\n",
       "      <th>Joining Date</th>\n",
       "      <th>Salary</th>\n",
       "      <th>Salary Range</th>\n",
       "    </tr>\n",
       "  </thead>\n",
       "  <tbody>\n",
       "    <tr>\n",
       "      <th>12</th>\n",
       "      <td>Donald Davis</td>\n",
       "      <td>25</td>\n",
       "      <td>Female</td>\n",
       "      <td>2</td>\n",
       "      <td>15</td>\n",
       "      <td>97</td>\n",
       "      <td>1.8</td>\n",
       "      <td>HR</td>\n",
       "      <td>Intern</td>\n",
       "      <td>Jan-21</td>\n",
       "      <td>35169</td>\n",
       "      <td>&lt;40k</td>\n",
       "    </tr>\n",
       "    <tr>\n",
       "      <th>31</th>\n",
       "      <td>Kim Larson</td>\n",
       "      <td>25</td>\n",
       "      <td>Female</td>\n",
       "      <td>3</td>\n",
       "      <td>15</td>\n",
       "      <td>99</td>\n",
       "      <td>2.8</td>\n",
       "      <td>Marketing</td>\n",
       "      <td>Junior Developer</td>\n",
       "      <td>Jan-19</td>\n",
       "      <td>47322</td>\n",
       "      <td>40k-60k</td>\n",
       "    </tr>\n",
       "    <tr>\n",
       "      <th>69</th>\n",
       "      <td>Dana Taylor</td>\n",
       "      <td>25</td>\n",
       "      <td>Female</td>\n",
       "      <td>2</td>\n",
       "      <td>16</td>\n",
       "      <td>95</td>\n",
       "      <td>4.0</td>\n",
       "      <td>Sales</td>\n",
       "      <td>Intern</td>\n",
       "      <td>Jan-22</td>\n",
       "      <td>36842</td>\n",
       "      <td>&lt;40k</td>\n",
       "    </tr>\n",
       "    <tr>\n",
       "      <th>81</th>\n",
       "      <td>Kathryn Scott</td>\n",
       "      <td>42</td>\n",
       "      <td>Female</td>\n",
       "      <td>8</td>\n",
       "      <td>5</td>\n",
       "      <td>87</td>\n",
       "      <td>4.3</td>\n",
       "      <td>Sales</td>\n",
       "      <td>Senior Developer</td>\n",
       "      <td>Jan-09</td>\n",
       "      <td>80567</td>\n",
       "      <td>80k-100k</td>\n",
       "    </tr>\n",
       "    <tr>\n",
       "      <th>84</th>\n",
       "      <td>Mark Wilson</td>\n",
       "      <td>57</td>\n",
       "      <td>Female</td>\n",
       "      <td>23</td>\n",
       "      <td>2</td>\n",
       "      <td>94</td>\n",
       "      <td>3.7</td>\n",
       "      <td>Sales</td>\n",
       "      <td>Manager</td>\n",
       "      <td>Jan-99</td>\n",
       "      <td>111381</td>\n",
       "      <td>100k+</td>\n",
       "    </tr>\n",
       "    <tr>\n",
       "      <th>95</th>\n",
       "      <td>Patricia Campos</td>\n",
       "      <td>27</td>\n",
       "      <td>Female</td>\n",
       "      <td>3</td>\n",
       "      <td>18</td>\n",
       "      <td>89</td>\n",
       "      <td>2.6</td>\n",
       "      <td>HR</td>\n",
       "      <td>Junior Developer</td>\n",
       "      <td>Jan-18</td>\n",
       "      <td>54974</td>\n",
       "      <td>40k-60k</td>\n",
       "    </tr>\n",
       "    <tr>\n",
       "      <th>156</th>\n",
       "      <td>Susan Hill</td>\n",
       "      <td>23</td>\n",
       "      <td>Male</td>\n",
       "      <td>2</td>\n",
       "      <td>0</td>\n",
       "      <td>90</td>\n",
       "      <td>2.7</td>\n",
       "      <td>Marketing</td>\n",
       "      <td>Intern</td>\n",
       "      <td>Jan-20</td>\n",
       "      <td>35130</td>\n",
       "      <td>&lt;40k</td>\n",
       "    </tr>\n",
       "    <tr>\n",
       "      <th>193</th>\n",
       "      <td>Drew Rojas</td>\n",
       "      <td>39</td>\n",
       "      <td>Female</td>\n",
       "      <td>16</td>\n",
       "      <td>13</td>\n",
       "      <td>100</td>\n",
       "      <td>4.7</td>\n",
       "      <td>IT</td>\n",
       "      <td>Manager</td>\n",
       "      <td>Jan-16</td>\n",
       "      <td>107814</td>\n",
       "      <td>100k+</td>\n",
       "    </tr>\n",
       "  </tbody>\n",
       "</table>\n",
       "</div>"
      ],
      "text/plain": [
       "                Name  Age  Gender  Projects Completed  Productivity (%)  \\\n",
       "12      Donald Davis   25  Female                   2                15   \n",
       "31        Kim Larson   25  Female                   3                15   \n",
       "69       Dana Taylor   25  Female                   2                16   \n",
       "81     Kathryn Scott   42  Female                   8                 5   \n",
       "84       Mark Wilson   57  Female                  23                 2   \n",
       "95   Patricia Campos   27  Female                   3                18   \n",
       "156       Susan Hill   23    Male                   2                 0   \n",
       "193       Drew Rojas   39  Female                  16                13   \n",
       "\n",
       "     Satisfaction Rate (%)  Feedback Score Department          Position  \\\n",
       "12                      97             1.8         HR            Intern   \n",
       "31                      99             2.8  Marketing  Junior Developer   \n",
       "69                      95             4.0      Sales            Intern   \n",
       "81                      87             4.3      Sales  Senior Developer   \n",
       "84                      94             3.7      Sales           Manager   \n",
       "95                      89             2.6         HR  Junior Developer   \n",
       "156                     90             2.7  Marketing            Intern   \n",
       "193                    100             4.7         IT           Manager   \n",
       "\n",
       "    Joining Date  Salary Salary Range  \n",
       "12        Jan-21   35169         <40k  \n",
       "31        Jan-19   47322      40k-60k  \n",
       "69        Jan-22   36842         <40k  \n",
       "81        Jan-09   80567     80k-100k  \n",
       "84        Jan-99  111381        100k+  \n",
       "95        Jan-18   54974      40k-60k  \n",
       "156       Jan-20   35130         <40k  \n",
       "193       Jan-16  107814        100k+  "
      ]
     },
     "execution_count": 28,
     "metadata": {},
     "output_type": "execute_result"
    }
   ],
   "source": [
    "high_sat_low_prod"
   ]
  },
  {
   "cell_type": "markdown",
   "id": "3867cf93",
   "metadata": {},
   "source": [
    "Interpretation: Highlighted with blue X markers in the lower-right region, we find a few employees who report very high satisfaction (90-100%) but have very low productivity. In our data, there are 8 such cases. These could be individuals who are content perhaps due to factors outside day-to-day performance – e.g., they might enjoy their team, have a good work-life balance, or simply have roles where output is not captured by our productivity metric. They might also be coasting or not challenged enough, which is a different kind of concern. While they are not a direct performance problem due to their low output, their happiness means they aren’t likely to leave. However, the company may want to investigate if their low productivity is due to misalignment of skills, lack of assignments, or other barriers. This insight reveals that some employees can be very satisfied even when not contributing much – a scenario of possible complacency or poor performance management."
   ]
  },
  {
   "cell_type": "code",
   "execution_count": null,
   "id": "6b9971b2",
   "metadata": {},
   "outputs": [],
   "source": []
  },
  {
   "cell_type": "code",
   "execution_count": null,
   "id": "e8f36caa",
   "metadata": {},
   "outputs": [],
   "source": []
  },
  {
   "cell_type": "code",
   "execution_count": null,
   "id": "b8b97494",
   "metadata": {},
   "outputs": [],
   "source": []
  },
  {
   "cell_type": "markdown",
   "id": "a22e3200",
   "metadata": {},
   "source": [
    "# Other Ideas"
   ]
  },
  {
   "cell_type": "markdown",
   "id": "444bd828",
   "metadata": {},
   "source": [
    "## Productivity and Satisfaction Overview"
   ]
  },
  {
   "cell_type": "code",
   "execution_count": 5,
   "id": "7a30f87d",
   "metadata": {},
   "outputs": [
    {
     "data": {
      "image/png": "[encoded data removed]",
      "text/plain": [
       "<Figure size 720x288 with 2 Axes>"
      ]
     },
     "metadata": {
      "needs_background": "light"
     },
     "output_type": "display_data"
    }
   ],
   "source": [
    "# Plot distributions of Productivity and Satisfaction\n",
    "fig, axes = plt.subplots(1, 2, figsize=(10,4))\n",
    "sns.histplot(df['Productivity (%)'], bins=10, color='steelblue', ax=axes[0])\n",
    "axes[0].set_title('Distribution of Productivity %')\n",
    "axes[0].set_xlabel('Productivity (%)')\n",
    "axes[0].set_ylabel('Number of Employees')\n",
    "\n",
    "sns.histplot(df['Satisfaction Rate (%)'], bins=10, color='olive', ax=axes[1])\n",
    "axes[1].set_title('Distribution of Satisfaction %')\n",
    "axes[1].set_xlabel('Satisfaction Rate (%)')\n",
    "axes[1].set_ylabel('Number of Employees')\n",
    "\n",
    "plt.tight_layout()\n",
    "plt.show()\n"
   ]
  },
  {
   "cell_type": "code",
   "execution_count": null,
   "id": "3c6a4259",
   "metadata": {},
   "outputs": [],
   "source": []
  },
  {
   "cell_type": "code",
   "execution_count": 6,
   "id": "21231107",
   "metadata": {},
   "outputs": [
    {
     "data": {
      "image/png": "[encoded data removed]",
      "text/plain": [
       "<Figure size 576x360 with 1 Axes>"
      ]
     },
     "metadata": {
      "needs_background": "light"
     },
     "output_type": "display_data"
    }
   ],
   "source": [
    "# Compute average productivity and satisfaction by position\n",
    "role_means = df.groupby('Position')[['Productivity (%)','Satisfaction Rate (%)']].mean().reset_index()\n",
    "\n",
    "# Melt the data for easier plotting\n",
    "melted = pd.melt(role_means, id_vars='Position', value_vars=['Productivity (%)','Satisfaction Rate (%)'], \n",
    "                var_name='Metric', value_name='Percentage')\n",
    "\n",
    "plt.figure(figsize=(8,5))\n",
    "sns.barplot(x='Position', y='Percentage', hue='Metric', data=melted, palette='Set2')\n",
    "plt.title('Average Productivity and Satisfaction by Role')\n",
    "plt.xlabel('Position')\n",
    "plt.ylabel('Percentage (%)')\n",
    "plt.legend(title='Metric')\n",
    "plt.xticks(rotation=45)\n",
    "plt.ylim(0,100)\n",
    "plt.show()\n"
   ]
  },
  {
   "cell_type": "code",
   "execution_count": null,
   "id": "47a160b1",
   "metadata": {},
   "outputs": [],
   "source": []
  }
 ],
 "metadata": {
  "hide_input": false,
  "kernelspec": {
   "display_name": "Python 3 (ipykernel)",
   "language": "python",
   "name": "python3"
  },
  "language_info": {
   "codemirror_mode": {
    "name": "ipython",
    "version": 3
   },
   "file_extension": ".py",
   "mimetype": "text/x-python",
   "name": "python",
   "nbconvert_exporter": "python",
   "pygments_lexer": "ipython3",
   "version": "3.9.13"
  },
  "varInspector": {
   "cols": {
    "lenName": 16,
    "lenType": 16,
    "lenVar": 40
   },
   "kernels_config": {
    "python": {
     "delete_cmd_postfix": "",
     "delete_cmd_prefix": "del ",
     "library": "var_list.py",
     "varRefreshCmd": "print(var_dic_list())"
    },
    "r": {
     "delete_cmd_postfix": ") ",
     "delete_cmd_prefix": "rm(",
     "library": "var_list.r",
     "varRefreshCmd": "cat(var_dic_list()) "
    }
   },
   "types_to_exclude": [
    "module",
    "function",
    "builtin_function_or_method",
    "instance",
    "_Feature"
   ],
   "window_display": false
  }
 },
 "nbformat": 4,
 "nbformat_minor": 5
}
